{
  "nbformat": 4,
  "nbformat_minor": 0,
  "metadata": {
    "colab": {
      "name": "Building ML models with PySpark.ipynb",
      "provenance": [],
      "collapsed_sections": [],
      "toc_visible": true,
      "include_colab_link": true
    },
    "kernelspec": {
      "name": "python3",
      "display_name": "Python 3"
    },
    "accelerator": "GPU"
  },
  "cells": [
    {
      "cell_type": "markdown",
      "metadata": {
        "id": "view-in-github",
        "colab_type": "text"
      },
      "source": [
        "<a href=\"https://colab.research.google.com/github/cesarniyo/PySpark-Big-Data/blob/master/Building_ML_models_with_PySpark.ipynb\" target=\"_parent\"><img src=\"https://colab.research.google.com/assets/colab-badge.svg\" alt=\"Open In Colab\"/></a>"
      ]
    },
    {
      "cell_type": "markdown",
      "metadata": {
        "id": "7FuMgS0t2WyC",
        "colab_type": "text"
      },
      "source": [
        "# Big Data with PySpark"
      ]
    },
    {
      "cell_type": "markdown",
      "metadata": {
        "id": "KzHNFbvvCTmK",
        "colab_type": "text"
      },
      "source": [
        "## Introduction \n",
        "\n",
        "### Project Overview\n",
        "\n",
        "In this project, we will put into practice the key principles and techniques used into building a Machine Learing model using PySpark(a Python API for Apache Spark).\n",
        "Apache Spark being an open-source, distributed computetion platform used for big data workloads. It uses in-memory caching and optimized query execution for fast queries against data of any size. \n",
        "In this work we will have a look on the interpretion of the requirements and necessary tasks to build, test, and optimize a number of  models including Regression, Decision Tree, Random Forest and Gradient Boost.\n"
      ]
    },
    {
      "cell_type": "markdown",
      "metadata": {
        "id": "4gfwZTMCCs6U",
        "colab_type": "text"
      },
      "source": [
        "### Datasets description\n",
        "\n",
        "In 1998, the Adventure Works Cycles company collected a large volume of data about their existing customers, including demographic features and information about purchases they have made. The company is particularly interested in analyzing customer data to determine any apparent relationships between demographic features known about the customers and the likelihood of a customer purchasing a bike. \n",
        "\n",
        "This data consists of three files, containing data that was collected on January 1st 1998.\n",
        "\n",
        "\n",
        "AdvWorksCusts.csv\n",
        "Customer demographic data consisting of the following fields:\n",
        "\n",
        "- CustomerID (integer): A unique customer identifier.\n",
        "- Title (string): The customer's formal title (Mr, Mrs, Ms, Miss Dr, etc.)\n",
        "- FirstName (string): The customer's first name.\n",
        "- MiddleName (string): The customer's middle name.\n",
        "- LastName (string): The customer's last name.\n",
        "- Suffix (string): A suffix for the customer name (Jr, Sr, etc.)\n",
        "- AddressLine1 (string): The first line of the customer's home address.\n",
        "- AddressLine2 (string): The second line of the customer's home address.\n",
        "- City (string): The city where the customer lives.\n",
        "- StateProvince (string): The state or province where the customer lives.\n",
        "- CountryRegion (string): The country or region where the customer lives.\n",
        "- PostalCode (string): The postal code for the customer's address.\n",
        "- PhoneNumber (string): The customer's telephone number.\n",
        "- BirthDate (date): The customer's date of birth in the format YYYY-MM-DD.\n",
        "- Education (string): The maximum level of education achieved by the customer:\n",
        "- Partial High School\n",
        "- High School\n",
        "- Partial College\n",
        "- Bachelors\n",
        "- Graduate Degree\n",
        "- Occupation (string): The type of job in which the customer is employed:\n",
        "- Manual\n",
        "- Skilled Manual\n",
        "- Clerical\n",
        "- Management\n",
        "- Professional\n",
        "- Gender (string): The customer's gender (for example, M for male, F for female, etc.)\n",
        "- MaritalStatus (string): Whether the customer is married (M) or single (S).\n",
        "- HomeOwnerFlag (integer): A Boolean flag indicating whether the customer owns their own home (1) or not (0).\n",
        "- NumberCarsOwned (integer): The number of cars owned by the customer.\n",
        "- NumberChildrenAtHome (integer): The number of children the customer has who live at home.\n",
        "- TotalChildren (integer): The total number of children the customer has.\n",
        "- YearlyIncome (decimal): The annual income of the customer.\n",
        "\n",
        "\n",
        " AW_AveMonthSpend.csv\n",
        "Sales data for existing customers, consisting of the following fields:\n",
        "\n",
        "- CustomerID (integer): The unique identifier for the customer.\n",
        "- AveMonthSpend (decimal): The amount of money the customer spends with Adventure Works Cycles on average each month.\n",
        "\n",
        "AW_BikeBuyer.csv\n",
        "Sales data for existing customers, consisting of the following fields:\n",
        "\n",
        "- CustomerID (integer): The unique identifier for the customer.\n",
        "- BikeBuyer (integer): A Boolean flag indicating whether a customer has previously purchased a bike (1) or not (0)."
      ]
    },
    {
      "cell_type": "markdown",
      "metadata": {
        "id": "MRnc2h7hTeg1",
        "colab_type": "text"
      },
      "source": [
        "### Let's start by Installing the requeried Dependencies"
      ]
    },
    {
      "cell_type": "code",
      "metadata": {
        "id": "4oSFnzO82RTk",
        "colab_type": "code",
        "colab": {}
      },
      "source": [
        "# Install spark-related dependencies (Java, Hadoop and Spark)\n",
        "!apt-get install openjdk-8-jdk-headless -qq > /dev/null\n",
        "!wget -q https://www-us.apache.org/dist/spark/spark-2.4.4/spark-2.4.4-bin-hadoop2.7.tgz\n",
        "!tar xf spark-2.4.4-bin-hadoop2.7.tgz\n",
        "\n"
      ],
      "execution_count": 0,
      "outputs": []
    },
    {
      "cell_type": "code",
      "metadata": {
        "id": "FT10dr2q22pt",
        "colab_type": "code",
        "colab": {
          "base_uri": "https://localhost:8080/",
          "height": 258
        },
        "outputId": "caa09a97-a8f2-45dd-a970-df4aa89cc646"
      },
      "source": [
        "# Install pyspark and findspark (Findspark in order to locate the spark in the system)\n",
        "!pip install pyspark\n",
        "!pip install -q findspark\n"
      ],
      "execution_count": 2,
      "outputs": [
        {
          "output_type": "stream",
          "text": [
            "Collecting pyspark\n",
            "\u001b[?25l  Downloading https://files.pythonhosted.org/packages/87/21/f05c186f4ddb01d15d0ddc36ef4b7e3cedbeb6412274a41f26b55a650ee5/pyspark-2.4.4.tar.gz (215.7MB)\n",
            "\u001b[K     |████████████████████████████████| 215.7MB 63kB/s \n",
            "\u001b[?25hCollecting py4j==0.10.7\n",
            "\u001b[?25l  Downloading https://files.pythonhosted.org/packages/e3/53/c737818eb9a7dc32a7cd4f1396e787bd94200c3997c72c1dbe028587bd76/py4j-0.10.7-py2.py3-none-any.whl (197kB)\n",
            "\u001b[K     |████████████████████████████████| 204kB 42.2MB/s \n",
            "\u001b[?25hBuilding wheels for collected packages: pyspark\n",
            "  Building wheel for pyspark (setup.py) ... \u001b[?25l\u001b[?25hdone\n",
            "  Created wheel for pyspark: filename=pyspark-2.4.4-py2.py3-none-any.whl size=216130387 sha256=0cc4459d66ab0bf309e04d2049e3bad05a0a62bd1a299d6976cc9e0ed9d72e1f\n",
            "  Stored in directory: /root/.cache/pip/wheels/ab/09/4d/0d184230058e654eb1b04467dbc1292f00eaa186544604b471\n",
            "Successfully built pyspark\n",
            "Installing collected packages: py4j, pyspark\n",
            "Successfully installed py4j-0.10.7 pyspark-2.4.4\n"
          ],
          "name": "stdout"
        }
      ]
    },
    {
      "cell_type": "code",
      "metadata": {
        "id": "tYGzfEwL29JA",
        "colab_type": "code",
        "colab": {}
      },
      "source": [
        "# Set up required environment variables\n",
        "import os\n",
        "os.environ[\"JAVA_HOME\"] = \"/usr/lib/jvm/java-8-openjdk-amd64\"\n",
        "os.environ[\"SPARK_HOME\"] = \"/content/spark-2.4.4-bin-hadoop2.7\"\n"
      ],
      "execution_count": 0,
      "outputs": []
    },
    {
      "cell_type": "markdown",
      "metadata": {
        "id": "QhZDJ23e5Ihn",
        "colab_type": "text"
      },
      "source": [
        "### Next we Import tools (from PySpark and more)"
      ]
    },
    {
      "cell_type": "code",
      "metadata": {
        "id": "K-s2UKYYWIl5",
        "colab_type": "code",
        "colab": {}
      },
      "source": [
        "# Tools we need to connect to the Spark server, load our data, clean it, and prepare, execute, and evaluate a model\n",
        "\n",
        "from pyspark import SparkContext\n",
        "from pyspark.sql import SparkSession\n",
        "from pyspark import SparkConf\n",
        "\n",
        "from pyspark.ml import Pipeline\n",
        "from pyspark.ml.classification import RandomForestClassifier\n",
        "from pyspark.ml.feature import IndexToString, StringIndexer, VectorIndexer, VectorAssembler\n",
        "from pyspark.ml.evaluation import MulticlassClassificationEvaluator\n",
        "\n",
        "from pyspark.sql.functions import isnan, when, count, col\n",
        "\n",
        "import numpy as np\n",
        "import pandas as pd\n"
      ],
      "execution_count": 0,
      "outputs": []
    },
    {
      "cell_type": "code",
      "metadata": {
        "id": "ILRYpy9U3Mki",
        "colab_type": "code",
        "colab": {}
      },
      "source": [
        "# Import and initialize findspark\n",
        "import findspark\n",
        "findspark.init()"
      ],
      "execution_count": 0,
      "outputs": []
    },
    {
      "cell_type": "code",
      "metadata": {
        "id": "gXWTM1pb4ZMI",
        "colab_type": "code",
        "colab": {
          "base_uri": "https://localhost:8080/",
          "height": 122
        },
        "outputId": "6c0e79fc-1e36-46e2-a943-ba42b00b51e6"
      },
      "source": [
        "\n",
        "# Point Colaboratory to your Google Drive\n",
        "\n",
        "from google.colab import drive\n",
        "drive.mount('/content/gdrive')"
      ],
      "execution_count": 6,
      "outputs": [
        {
          "output_type": "stream",
          "text": [
            "Go to this URL in a browser: https://accounts.google.com/o/oauth2/auth?client_id=947318989803-6bn6qk8qdgf4n4g3pfee6491hc0brc4i.apps.googleusercontent.com&redirect_uri=urn%3aietf%3awg%3aoauth%3a2.0%3aoob&response_type=code&scope=email%20https%3a%2f%2fwww.googleapis.com%2fauth%2fdocs.test%20https%3a%2f%2fwww.googleapis.com%2fauth%2fdrive%20https%3a%2f%2fwww.googleapis.com%2fauth%2fdrive.photos.readonly%20https%3a%2f%2fwww.googleapis.com%2fauth%2fpeopleapi.readonly\n",
            "\n",
            "Enter your authorization code:\n",
            "··········\n",
            "Mounted at /content/gdrive\n"
          ],
          "name": "stdout"
        }
      ]
    },
    {
      "cell_type": "markdown",
      "metadata": {
        "id": "eM8o3IBR4-q_",
        "colab_type": "text"
      },
      "source": [
        "## Downloading Data to Google Drive"
      ]
    },
    {
      "cell_type": "code",
      "metadata": {
        "id": "0W_CgtA6QHHC",
        "colab_type": "code",
        "colab": {}
      },
      "source": [
        "#Load training data from local system\n",
        "Features = pd.read_csv('AdvWorksCusts.csv')\n",
        "RLabels = pd.read_csv('AW_AveMonthSpend.csv')\n",
        "CLabels = pd.read_csv('AW_BikeBuyer.csv')\n",
        "\n",
        "#concatinate all data into one table and save them on My Drive\n",
        "df=pd.concat([Features,RLabels['AveMonthSpend'],CLabels['BikeBuyer']], axis=1, sort=False)\n",
        "df.to_csv('/content/gdrive/My Drive/Datasets/dataset.csv',index=False)\n"
      ],
      "execution_count": 0,
      "outputs": []
    },
    {
      "cell_type": "markdown",
      "metadata": {
        "id": "gM27eXVN5mGK",
        "colab_type": "text"
      },
      "source": [
        "## Set Constants"
      ]
    },
    {
      "cell_type": "code",
      "metadata": {
        "id": "g1oW4nyx5kjq",
        "colab_type": "code",
        "colab": {}
      },
      "source": [
        "APP_NAME = \"Customer Purchasing Behavior\"\n",
        "SPARK_URL = \"local[*]\"\n",
        "RANDOM_SEED = 2018\n",
        "TRAINING_DATA_RATIO = 0.7\n",
        "RF_NUM_TREES = 10\n",
        "RF_MAX_DEPTH = 4\n",
        "RF_NUM_BINS = 32"
      ],
      "execution_count": 0,
      "outputs": []
    },
    {
      "cell_type": "code",
      "metadata": {
        "id": "f87IgyUW5t47",
        "colab_type": "code",
        "colab": {}
      },
      "source": [
        "\n",
        "# Connect to the Spark server\n",
        "spark = SparkSession.builder.appName(APP_NAME).master(SPARK_URL).getOrCreate()\n",
        "dataset=\"/content/gdrive/My Drive/Datasets/dataset.csv\"\n",
        "df = spark.read.csv(dataset, header = True, inferSchema = True)\n"
      ],
      "execution_count": 0,
      "outputs": []
    },
    {
      "cell_type": "code",
      "metadata": {
        "id": "DVBZWiXvmC-K",
        "colab_type": "code",
        "outputId": "b340c211-274e-45e3-ca3c-9311531b3916",
        "colab": {
          "base_uri": "https://localhost:8080/",
          "height": 476
        }
      },
      "source": [
        "# Checking on type( int or strings) of each feature in our dataset\n",
        "df.printSchema()"
      ],
      "execution_count": 10,
      "outputs": [
        {
          "output_type": "stream",
          "text": [
            "root\n",
            " |-- CustomerID: integer (nullable = true)\n",
            " |-- Title: string (nullable = true)\n",
            " |-- FirstName: string (nullable = true)\n",
            " |-- MiddleName: string (nullable = true)\n",
            " |-- LastName: string (nullable = true)\n",
            " |-- Suffix: string (nullable = true)\n",
            " |-- AddressLine1: string (nullable = true)\n",
            " |-- AddressLine2: string (nullable = true)\n",
            " |-- City: string (nullable = true)\n",
            " |-- StateProvinceName: string (nullable = true)\n",
            " |-- CountryRegionName: string (nullable = true)\n",
            " |-- PostalCode: string (nullable = true)\n",
            " |-- PhoneNumber: string (nullable = true)\n",
            " |-- BirthDate: timestamp (nullable = true)\n",
            " |-- Education: string (nullable = true)\n",
            " |-- Occupation: string (nullable = true)\n",
            " |-- Gender: string (nullable = true)\n",
            " |-- MaritalStatus: string (nullable = true)\n",
            " |-- HomeOwnerFlag: integer (nullable = true)\n",
            " |-- NumberCarsOwned: integer (nullable = true)\n",
            " |-- NumberChildrenAtHome: integer (nullable = true)\n",
            " |-- TotalChildren: integer (nullable = true)\n",
            " |-- YearlyIncome: integer (nullable = true)\n",
            " |-- AveMonthSpend: integer (nullable = true)\n",
            " |-- BikeBuyer: integer (nullable = true)\n",
            "\n"
          ],
          "name": "stdout"
        }
      ]
    },
    {
      "cell_type": "code",
      "metadata": {
        "id": "HvvXTjl8lr6w",
        "colab_type": "code",
        "outputId": "5dfd7b22-e881-4bfc-f78e-b44ac0be92fc",
        "colab": {
          "base_uri": "https://localhost:8080/",
          "height": 309
        }
      },
      "source": [
        "#Displaying the head of the dataset\n",
        "pd.DataFrame(df.take(5), columns=df.columns)#.transpose()"
      ],
      "execution_count": 11,
      "outputs": [
        {
          "output_type": "execute_result",
          "data": {
            "text/html": [
              "<div>\n",
              "<style scoped>\n",
              "    .dataframe tbody tr th:only-of-type {\n",
              "        vertical-align: middle;\n",
              "    }\n",
              "\n",
              "    .dataframe tbody tr th {\n",
              "        vertical-align: top;\n",
              "    }\n",
              "\n",
              "    .dataframe thead th {\n",
              "        text-align: right;\n",
              "    }\n",
              "</style>\n",
              "<table border=\"1\" class=\"dataframe\">\n",
              "  <thead>\n",
              "    <tr style=\"text-align: right;\">\n",
              "      <th></th>\n",
              "      <th>CustomerID</th>\n",
              "      <th>Title</th>\n",
              "      <th>FirstName</th>\n",
              "      <th>MiddleName</th>\n",
              "      <th>LastName</th>\n",
              "      <th>Suffix</th>\n",
              "      <th>AddressLine1</th>\n",
              "      <th>AddressLine2</th>\n",
              "      <th>City</th>\n",
              "      <th>StateProvinceName</th>\n",
              "      <th>CountryRegionName</th>\n",
              "      <th>PostalCode</th>\n",
              "      <th>PhoneNumber</th>\n",
              "      <th>BirthDate</th>\n",
              "      <th>Education</th>\n",
              "      <th>Occupation</th>\n",
              "      <th>Gender</th>\n",
              "      <th>MaritalStatus</th>\n",
              "      <th>HomeOwnerFlag</th>\n",
              "      <th>NumberCarsOwned</th>\n",
              "      <th>NumberChildrenAtHome</th>\n",
              "      <th>TotalChildren</th>\n",
              "      <th>YearlyIncome</th>\n",
              "      <th>AveMonthSpend</th>\n",
              "      <th>BikeBuyer</th>\n",
              "    </tr>\n",
              "  </thead>\n",
              "  <tbody>\n",
              "    <tr>\n",
              "      <th>0</th>\n",
              "      <td>11000</td>\n",
              "      <td>None</td>\n",
              "      <td>Jon</td>\n",
              "      <td>V</td>\n",
              "      <td>Yang</td>\n",
              "      <td>None</td>\n",
              "      <td>3761 N. 14th St</td>\n",
              "      <td>None</td>\n",
              "      <td>Rockhampton</td>\n",
              "      <td>Queensland</td>\n",
              "      <td>Australia</td>\n",
              "      <td>4700</td>\n",
              "      <td>1 (11) 500 555-0162</td>\n",
              "      <td>1966-04-08</td>\n",
              "      <td>Bachelors</td>\n",
              "      <td>Professional</td>\n",
              "      <td>M</td>\n",
              "      <td>M</td>\n",
              "      <td>1</td>\n",
              "      <td>0</td>\n",
              "      <td>0</td>\n",
              "      <td>2</td>\n",
              "      <td>137947</td>\n",
              "      <td>89</td>\n",
              "      <td>0</td>\n",
              "    </tr>\n",
              "    <tr>\n",
              "      <th>1</th>\n",
              "      <td>11001</td>\n",
              "      <td>None</td>\n",
              "      <td>Eugene</td>\n",
              "      <td>L</td>\n",
              "      <td>Huang</td>\n",
              "      <td>None</td>\n",
              "      <td>2243 W St.</td>\n",
              "      <td>None</td>\n",
              "      <td>Seaford</td>\n",
              "      <td>Victoria</td>\n",
              "      <td>Australia</td>\n",
              "      <td>3198</td>\n",
              "      <td>1 (11) 500 555-0110</td>\n",
              "      <td>1965-05-14</td>\n",
              "      <td>Bachelors</td>\n",
              "      <td>Professional</td>\n",
              "      <td>M</td>\n",
              "      <td>S</td>\n",
              "      <td>0</td>\n",
              "      <td>1</td>\n",
              "      <td>3</td>\n",
              "      <td>3</td>\n",
              "      <td>101141</td>\n",
              "      <td>117</td>\n",
              "      <td>1</td>\n",
              "    </tr>\n",
              "    <tr>\n",
              "      <th>2</th>\n",
              "      <td>11002</td>\n",
              "      <td>None</td>\n",
              "      <td>Ruben</td>\n",
              "      <td>None</td>\n",
              "      <td>Torres</td>\n",
              "      <td>None</td>\n",
              "      <td>5844 Linden Land</td>\n",
              "      <td>None</td>\n",
              "      <td>Hobart</td>\n",
              "      <td>Tasmania</td>\n",
              "      <td>Australia</td>\n",
              "      <td>7001</td>\n",
              "      <td>1 (11) 500 555-0184</td>\n",
              "      <td>1965-08-12</td>\n",
              "      <td>Bachelors</td>\n",
              "      <td>Professional</td>\n",
              "      <td>M</td>\n",
              "      <td>M</td>\n",
              "      <td>1</td>\n",
              "      <td>1</td>\n",
              "      <td>3</td>\n",
              "      <td>3</td>\n",
              "      <td>91945</td>\n",
              "      <td>123</td>\n",
              "      <td>0</td>\n",
              "    </tr>\n",
              "    <tr>\n",
              "      <th>3</th>\n",
              "      <td>11003</td>\n",
              "      <td>None</td>\n",
              "      <td>Christy</td>\n",
              "      <td>None</td>\n",
              "      <td>Zhu</td>\n",
              "      <td>None</td>\n",
              "      <td>1825 Village Pl.</td>\n",
              "      <td>None</td>\n",
              "      <td>North Ryde</td>\n",
              "      <td>New South Wales</td>\n",
              "      <td>Australia</td>\n",
              "      <td>2113</td>\n",
              "      <td>1 (11) 500 555-0162</td>\n",
              "      <td>1968-02-15</td>\n",
              "      <td>Bachelors</td>\n",
              "      <td>Professional</td>\n",
              "      <td>F</td>\n",
              "      <td>S</td>\n",
              "      <td>0</td>\n",
              "      <td>1</td>\n",
              "      <td>0</td>\n",
              "      <td>0</td>\n",
              "      <td>86688</td>\n",
              "      <td>50</td>\n",
              "      <td>0</td>\n",
              "    </tr>\n",
              "    <tr>\n",
              "      <th>4</th>\n",
              "      <td>11004</td>\n",
              "      <td>None</td>\n",
              "      <td>Elizabeth</td>\n",
              "      <td>None</td>\n",
              "      <td>Johnson</td>\n",
              "      <td>None</td>\n",
              "      <td>7553 Harness Circle</td>\n",
              "      <td>None</td>\n",
              "      <td>Wollongong</td>\n",
              "      <td>New South Wales</td>\n",
              "      <td>Australia</td>\n",
              "      <td>2500</td>\n",
              "      <td>1 (11) 500 555-0131</td>\n",
              "      <td>1968-08-08</td>\n",
              "      <td>Bachelors</td>\n",
              "      <td>Professional</td>\n",
              "      <td>F</td>\n",
              "      <td>S</td>\n",
              "      <td>1</td>\n",
              "      <td>4</td>\n",
              "      <td>5</td>\n",
              "      <td>5</td>\n",
              "      <td>92771</td>\n",
              "      <td>95</td>\n",
              "      <td>1</td>\n",
              "    </tr>\n",
              "  </tbody>\n",
              "</table>\n",
              "</div>"
            ],
            "text/plain": [
              "   CustomerID Title  FirstName  ... YearlyIncome AveMonthSpend BikeBuyer\n",
              "0       11000  None        Jon  ...       137947            89         0\n",
              "1       11001  None     Eugene  ...       101141           117         1\n",
              "2       11002  None      Ruben  ...        91945           123         0\n",
              "3       11003  None    Christy  ...        86688            50         0\n",
              "4       11004  None  Elizabeth  ...        92771            95         1\n",
              "\n",
              "[5 rows x 25 columns]"
            ]
          },
          "metadata": {
            "tags": []
          },
          "execution_count": 11
        }
      ]
    },
    {
      "cell_type": "code",
      "metadata": {
        "id": "Q9yS4-xfmp-t",
        "colab_type": "code",
        "outputId": "443720b6-2239-4586-d0db-6e9489623d9a",
        "colab": {
          "base_uri": "https://localhost:8080/",
          "height": 111
        }
      },
      "source": [
        "#Are our Classes perfectly balanced? (NO)\n",
        "df.groupby('BikeBuyer').count().toPandas()"
      ],
      "execution_count": 12,
      "outputs": [
        {
          "output_type": "execute_result",
          "data": {
            "text/html": [
              "<div>\n",
              "<style scoped>\n",
              "    .dataframe tbody tr th:only-of-type {\n",
              "        vertical-align: middle;\n",
              "    }\n",
              "\n",
              "    .dataframe tbody tr th {\n",
              "        vertical-align: top;\n",
              "    }\n",
              "\n",
              "    .dataframe thead th {\n",
              "        text-align: right;\n",
              "    }\n",
              "</style>\n",
              "<table border=\"1\" class=\"dataframe\">\n",
              "  <thead>\n",
              "    <tr style=\"text-align: right;\">\n",
              "      <th></th>\n",
              "      <th>BikeBuyer</th>\n",
              "      <th>count</th>\n",
              "    </tr>\n",
              "  </thead>\n",
              "  <tbody>\n",
              "    <tr>\n",
              "      <th>0</th>\n",
              "      <td>1</td>\n",
              "      <td>5489</td>\n",
              "    </tr>\n",
              "    <tr>\n",
              "      <th>1</th>\n",
              "      <td>0</td>\n",
              "      <td>11030</td>\n",
              "    </tr>\n",
              "  </tbody>\n",
              "</table>\n",
              "</div>"
            ],
            "text/plain": [
              "   BikeBuyer  count\n",
              "0          1   5489\n",
              "1          0  11030"
            ]
          },
          "metadata": {
            "tags": []
          },
          "execution_count": 12
        }
      ]
    },
    {
      "cell_type": "markdown",
      "metadata": {
        "id": "955NpHKI6MCg",
        "colab_type": "text"
      },
      "source": [
        "## Prepare, clean and validate the data"
      ]
    },
    {
      "cell_type": "code",
      "metadata": {
        "id": "UyoEAF9P6Phi",
        "colab_type": "code",
        "outputId": "de8a020d-bbca-41af-a616-2cba45ba7578",
        "colab": {
          "base_uri": "https://localhost:8080/",
          "height": 34
        }
      },
      "source": [
        "# Displaying data shape before starting cleaning\n",
        "print(f\"The shape is {df.count():d} rows by {len(df.columns):d} columns.\")"
      ],
      "execution_count": 13,
      "outputs": [
        {
          "output_type": "stream",
          "text": [
            "The shape is 16519 rows by 25 columns.\n"
          ],
          "name": "stdout"
        }
      ]
    },
    {
      "cell_type": "code",
      "metadata": {
        "id": "m43YtXazjSiu",
        "colab_type": "code",
        "colab": {}
      },
      "source": [
        "# Dropping unwanted features and inputs as needed\n",
        "df = df.drop(df.BirthDate)"
      ],
      "execution_count": 0,
      "outputs": []
    },
    {
      "cell_type": "code",
      "metadata": {
        "id": "dDLOKTJJ6PTB",
        "colab_type": "code",
        "outputId": "8fb7fd3b-b39e-47f4-9d91-b628bd16bcb1",
        "colab": {
          "base_uri": "https://localhost:8080/",
          "height": 34
        }
      },
      "source": [
        "# Let's check the number of null values\n",
        "null_counts = df.select([count(when(isnan(c) | col(c).isNull(), c)).alias(c) \n",
        "                         for c in df.columns]).toPandas().to_dict(orient='records')\n",
        "\n",
        "print(f\"We have {sum(null_counts[0].values()):d} null values in this dataset.\")"
      ],
      "execution_count": 15,
      "outputs": [
        {
          "output_type": "stream",
          "text": [
            "We have 56176 null values in this dataset.\n"
          ],
          "name": "stdout"
        }
      ]
    },
    {
      "cell_type": "code",
      "metadata": {
        "id": "zJ9-9YAzfWiA",
        "colab_type": "code",
        "colab": {}
      },
      "source": [
        "#dropping unwanted feature \n",
        "df = df.drop(df.Title)\n",
        "df = df.drop(df.MiddleName)\n",
        "df = df.drop(df.Suffix)\n",
        "df = df.drop(df.AddressLine2)\n",
        "\n",
        "# df = df.na.drop()\n",
        "\n"
      ],
      "execution_count": 0,
      "outputs": []
    },
    {
      "cell_type": "code",
      "metadata": {
        "id": "r2KHd4P46oEj",
        "colab_type": "code",
        "outputId": "08109bf8-86fa-43aa-f2e7-f3b44628cf3d",
        "colab": {
          "base_uri": "https://localhost:8080/",
          "height": 34
        }
      },
      "source": [
        "# Confirm there are no null values\n",
        "null_counts = df.select([count(when(isnan(c) | col(c).isNull(), c)).alias(c) \n",
        "                         for c in df.columns]).toPandas().to_dict(orient='records')\n",
        "\n",
        "print(f\"We have {sum(null_counts[0].values()):d} null values in this dataset.\")"
      ],
      "execution_count": 17,
      "outputs": [
        {
          "output_type": "stream",
          "text": [
            "We have 0 null values in this dataset.\n"
          ],
          "name": "stdout"
        }
      ]
    },
    {
      "cell_type": "code",
      "metadata": {
        "id": "7qJUTnEP60_S",
        "colab_type": "code",
        "outputId": "74424f67-b6fb-4ee7-9043-0c63cff9bac2",
        "colab": {
          "base_uri": "https://localhost:8080/",
          "height": 34
        }
      },
      "source": [
        "# Looking at the data shape after cleaning \n",
        "print(f\"The shape is {df.count():d} rows by {len(df.columns):d} columns.\")"
      ],
      "execution_count": 18,
      "outputs": [
        {
          "output_type": "stream",
          "text": [
            "The shape is 16519 rows by 20 columns.\n"
          ],
          "name": "stdout"
        }
      ]
    },
    {
      "cell_type": "markdown",
      "metadata": {
        "id": "NO_ys2Lu7FVp",
        "colab_type": "text"
      },
      "source": [
        "## Set up and run our classifier in Spark"
      ]
    },
    {
      "cell_type": "code",
      "metadata": {
        "id": "EN_rHioh65Q4",
        "colab_type": "code",
        "outputId": "442f562a-67d9-4096-b2aa-ffacec31e460",
        "colab": {
          "base_uri": "https://localhost:8080/",
          "height": 391
        }
      },
      "source": [
        "# Checking on type[int or strings] of each feature in our dataset (After cleaning)\n",
        "#df.dtypes\n",
        "df.printSchema()"
      ],
      "execution_count": 19,
      "outputs": [
        {
          "output_type": "stream",
          "text": [
            "root\n",
            " |-- CustomerID: integer (nullable = true)\n",
            " |-- FirstName: string (nullable = true)\n",
            " |-- LastName: string (nullable = true)\n",
            " |-- AddressLine1: string (nullable = true)\n",
            " |-- City: string (nullable = true)\n",
            " |-- StateProvinceName: string (nullable = true)\n",
            " |-- CountryRegionName: string (nullable = true)\n",
            " |-- PostalCode: string (nullable = true)\n",
            " |-- PhoneNumber: string (nullable = true)\n",
            " |-- Education: string (nullable = true)\n",
            " |-- Occupation: string (nullable = true)\n",
            " |-- Gender: string (nullable = true)\n",
            " |-- MaritalStatus: string (nullable = true)\n",
            " |-- HomeOwnerFlag: integer (nullable = true)\n",
            " |-- NumberCarsOwned: integer (nullable = true)\n",
            " |-- NumberChildrenAtHome: integer (nullable = true)\n",
            " |-- TotalChildren: integer (nullable = true)\n",
            " |-- YearlyIncome: integer (nullable = true)\n",
            " |-- AveMonthSpend: integer (nullable = true)\n",
            " |-- BikeBuyer: integer (nullable = true)\n",
            "\n"
          ],
          "name": "stdout"
        }
      ]
    },
    {
      "cell_type": "code",
      "metadata": {
        "id": "2Bv_VqVXvWWj",
        "colab_type": "code",
        "outputId": "79f01e7f-39a2-40ae-cb49-a6b2b52a28ce",
        "colab": {
          "base_uri": "https://localhost:8080/",
          "height": 328
        }
      },
      "source": [
        "# Summary statistics for numeric variables\n",
        "numeric_features = [t[0] for t in df.dtypes if t[1] == 'int']\n",
        "df.select(numeric_features).describe().toPandas().transpose()"
      ],
      "execution_count": 20,
      "outputs": [
        {
          "output_type": "execute_result",
          "data": {
            "text/html": [
              "<div>\n",
              "<style scoped>\n",
              "    .dataframe tbody tr th:only-of-type {\n",
              "        vertical-align: middle;\n",
              "    }\n",
              "\n",
              "    .dataframe tbody tr th {\n",
              "        vertical-align: top;\n",
              "    }\n",
              "\n",
              "    .dataframe thead th {\n",
              "        text-align: right;\n",
              "    }\n",
              "</style>\n",
              "<table border=\"1\" class=\"dataframe\">\n",
              "  <thead>\n",
              "    <tr style=\"text-align: right;\">\n",
              "      <th></th>\n",
              "      <th>0</th>\n",
              "      <th>1</th>\n",
              "      <th>2</th>\n",
              "      <th>3</th>\n",
              "      <th>4</th>\n",
              "    </tr>\n",
              "  </thead>\n",
              "  <tbody>\n",
              "    <tr>\n",
              "      <th>summary</th>\n",
              "      <td>count</td>\n",
              "      <td>mean</td>\n",
              "      <td>stddev</td>\n",
              "      <td>min</td>\n",
              "      <td>max</td>\n",
              "    </tr>\n",
              "    <tr>\n",
              "      <th>CustomerID</th>\n",
              "      <td>16519</td>\n",
              "      <td>20234.225195229734</td>\n",
              "      <td>5342.515987383602</td>\n",
              "      <td>11000</td>\n",
              "      <td>29482</td>\n",
              "    </tr>\n",
              "    <tr>\n",
              "      <th>HomeOwnerFlag</th>\n",
              "      <td>16519</td>\n",
              "      <td>0.6738906713481445</td>\n",
              "      <td>0.4688020251826776</td>\n",
              "      <td>0</td>\n",
              "      <td>1</td>\n",
              "    </tr>\n",
              "    <tr>\n",
              "      <th>NumberCarsOwned</th>\n",
              "      <td>16519</td>\n",
              "      <td>1.5009988498093105</td>\n",
              "      <td>1.13896240081262</td>\n",
              "      <td>0</td>\n",
              "      <td>4</td>\n",
              "    </tr>\n",
              "    <tr>\n",
              "      <th>NumberChildrenAtHome</th>\n",
              "      <td>16519</td>\n",
              "      <td>0.9920092015255161</td>\n",
              "      <td>1.5150483246404947</td>\n",
              "      <td>0</td>\n",
              "      <td>5</td>\n",
              "    </tr>\n",
              "    <tr>\n",
              "      <th>TotalChildren</th>\n",
              "      <td>16519</td>\n",
              "      <td>2.0062352442641807</td>\n",
              "      <td>1.6827356691512656</td>\n",
              "      <td>0</td>\n",
              "      <td>5</td>\n",
              "    </tr>\n",
              "    <tr>\n",
              "      <th>YearlyIncome</th>\n",
              "      <td>16519</td>\n",
              "      <td>78122.51153217508</td>\n",
              "      <td>39710.98571770291</td>\n",
              "      <td>9482</td>\n",
              "      <td>196511</td>\n",
              "    </tr>\n",
              "    <tr>\n",
              "      <th>AveMonthSpend</th>\n",
              "      <td>16519</td>\n",
              "      <td>72.40595677704462</td>\n",
              "      <td>27.285370492296273</td>\n",
              "      <td>22</td>\n",
              "      <td>176</td>\n",
              "    </tr>\n",
              "    <tr>\n",
              "      <th>BikeBuyer</th>\n",
              "      <td>16519</td>\n",
              "      <td>0.33228403656395666</td>\n",
              "      <td>0.4710464814690257</td>\n",
              "      <td>0</td>\n",
              "      <td>1</td>\n",
              "    </tr>\n",
              "  </tbody>\n",
              "</table>\n",
              "</div>"
            ],
            "text/plain": [
              "                          0                    1  ...      3       4\n",
              "summary               count                 mean  ...    min     max\n",
              "CustomerID            16519   20234.225195229734  ...  11000   29482\n",
              "HomeOwnerFlag         16519   0.6738906713481445  ...      0       1\n",
              "NumberCarsOwned       16519   1.5009988498093105  ...      0       4\n",
              "NumberChildrenAtHome  16519   0.9920092015255161  ...      0       5\n",
              "TotalChildren         16519   2.0062352442641807  ...      0       5\n",
              "YearlyIncome          16519    78122.51153217508  ...   9482  196511\n",
              "AveMonthSpend         16519    72.40595677704462  ...     22     176\n",
              "BikeBuyer             16519  0.33228403656395666  ...      0       1\n",
              "\n",
              "[9 rows x 5 columns]"
            ]
          },
          "metadata": {
            "tags": []
          },
          "execution_count": 20
        }
      ]
    },
    {
      "cell_type": "code",
      "metadata": {
        "id": "qu2KnJ5CvvvU",
        "colab_type": "code",
        "outputId": "4141d925-4772-40e8-b548-167183a2e048",
        "colab": {
          "base_uri": "https://localhost:8080/",
          "height": 483
        }
      },
      "source": [
        "# Computing the Correlations between features\n",
        "from pandas.plotting import scatter_matrix\n",
        "numeric_data = df.select(numeric_features).toPandas()\n",
        "\n",
        "axs = scatter_matrix(numeric_data, figsize=(12, 6));\n",
        "\n",
        "# Rotate axis labels and remove axis ticks\n",
        "n = len(numeric_data.columns)\n",
        "for i in range(n):\n",
        "    v = axs[i, 0]\n",
        "    v.yaxis.label.set_rotation(0)\n",
        "    v.yaxis.label.set_ha('right')\n",
        "    v.set_yticks(())\n",
        "    h = axs[n-1, i]\n",
        "    h.xaxis.label.set_rotation(90)\n",
        "    h.set_xticks(())"
      ],
      "execution_count": 21,
      "outputs": [
        {
          "output_type": "display_data",
          "data": {
            "image/png": "[encoded data removed]",
            "text/plain": [
              "<Figure size 864x432 with 64 Axes>"
            ]
          },
          "metadata": {
            "tags": []
          }
        }
      ]
    },
    {
      "cell_type": "code",
      "metadata": {
        "id": "IUcG6--pyMcl",
        "colab_type": "code",
        "outputId": "b388595f-de6a-47e7-e795-f11960a83c26",
        "colab": {
          "base_uri": "https://localhost:8080/",
          "height": 238
        }
      },
      "source": [
        "# Selecting columns used for training\n",
        "df = df.select('Education',\n",
        " 'Occupation',\n",
        " 'Gender',\n",
        " 'MaritalStatus',\n",
        " 'HomeOwnerFlag',\n",
        " 'NumberCarsOwned',\n",
        " 'NumberChildrenAtHome',\n",
        " 'TotalChildren',\n",
        " 'YearlyIncome',\n",
        " 'AveMonthSpend',\n",
        " 'BikeBuyer')\n",
        "cols = df.columns\n",
        "df.printSchema()\n"
      ],
      "execution_count": 22,
      "outputs": [
        {
          "output_type": "stream",
          "text": [
            "root\n",
            " |-- Education: string (nullable = true)\n",
            " |-- Occupation: string (nullable = true)\n",
            " |-- Gender: string (nullable = true)\n",
            " |-- MaritalStatus: string (nullable = true)\n",
            " |-- HomeOwnerFlag: integer (nullable = true)\n",
            " |-- NumberCarsOwned: integer (nullable = true)\n",
            " |-- NumberChildrenAtHome: integer (nullable = true)\n",
            " |-- TotalChildren: integer (nullable = true)\n",
            " |-- YearlyIncome: integer (nullable = true)\n",
            " |-- AveMonthSpend: integer (nullable = true)\n",
            " |-- BikeBuyer: integer (nullable = true)\n",
            "\n"
          ],
          "name": "stdout"
        }
      ]
    },
    {
      "cell_type": "code",
      "metadata": {
        "id": "fcQ_FRguzsXX",
        "colab_type": "code",
        "colab": {}
      },
      "source": [
        "# Build the training indexers\n",
        "from pyspark.ml.feature import OneHotEncoderEstimator, StringIndexer, VectorAssembler\n",
        "\n",
        "# Defining categorical features\n",
        "categoricalColumns = ['Education', 'Occupation', 'Gender', 'MaritalStatus']\n",
        "stages = []\n",
        "\n",
        "for categoricalCol in categoricalColumns:\n",
        "    stringIndexer = StringIndexer(inputCol = categoricalCol, outputCol = categoricalCol + 'Index')\n",
        "    encoder = OneHotEncoderEstimator(inputCols=[stringIndexer.getOutputCol()], outputCols=[categoricalCol + \"classVec\"])\n",
        "    stages += [stringIndexer, encoder]\n",
        "\n",
        "# Defining numerical features\n",
        "numericCols = ['HomeOwnerFlag', 'NumberCarsOwned', 'NumberChildrenAtHome', 'TotalChildren', 'YearlyIncome', 'AveMonthSpend']\n",
        "assemblerInputs = [c + \"classVec\" for c in categoricalColumns] + numericCols\n",
        "\n",
        "# Generating a labelIndexer \n",
        "label_stringIdx = StringIndexer(inputCol = 'BikeBuyer', outputCol = 'label')\n",
        "stages += [label_stringIdx]\n",
        "\n",
        "# Generating the indexed feature vector\n",
        "assembler = VectorAssembler(inputCols=assemblerInputs, outputCol=\"features\")\n",
        "stages += [assembler]"
      ],
      "execution_count": 0,
      "outputs": []
    },
    {
      "cell_type": "code",
      "metadata": {
        "id": "R3nivaHP1EjD",
        "colab_type": "code",
        "outputId": "122a12d7-9f19-4331-b0bf-76c2c22afc4e",
        "colab": {
          "base_uri": "https://localhost:8080/",
          "height": 272
        }
      },
      "source": [
        "\n",
        "from pyspark.ml import Pipeline\n",
        "pipeline = Pipeline(stages = stages) \n",
        "pipelineModel = pipeline.fit(df)     # Chain indexers and the  models in a Pipeline\n",
        "df = pipelineModel.transform(df)\n",
        "selectedCols = ['label', 'features'] + cols\n",
        "df = df.select(selectedCols)\n",
        "df.printSchema()"
      ],
      "execution_count": 24,
      "outputs": [
        {
          "output_type": "stream",
          "text": [
            "root\n",
            " |-- label: double (nullable = false)\n",
            " |-- features: vector (nullable = true)\n",
            " |-- Education: string (nullable = true)\n",
            " |-- Occupation: string (nullable = true)\n",
            " |-- Gender: string (nullable = true)\n",
            " |-- MaritalStatus: string (nullable = true)\n",
            " |-- HomeOwnerFlag: integer (nullable = true)\n",
            " |-- NumberCarsOwned: integer (nullable = true)\n",
            " |-- NumberChildrenAtHome: integer (nullable = true)\n",
            " |-- TotalChildren: integer (nullable = true)\n",
            " |-- YearlyIncome: integer (nullable = true)\n",
            " |-- AveMonthSpend: integer (nullable = true)\n",
            " |-- BikeBuyer: integer (nullable = true)\n",
            "\n"
          ],
          "name": "stdout"
        }
      ]
    },
    {
      "cell_type": "code",
      "metadata": {
        "id": "d8rcLmr-1b0c",
        "colab_type": "code",
        "outputId": "6bb3c441-94ea-4409-c225-927bdb902118",
        "colab": {
          "base_uri": "https://localhost:8080/",
          "height": 564
        }
      },
      "source": [
        "# Desplaying the Dataset after cleaning process\n",
        "pd.DataFrame(df.take(5), columns=df.columns)#.transpose()"
      ],
      "execution_count": 25,
      "outputs": [
        {
          "output_type": "execute_result",
          "data": {
            "text/html": [
              "<div>\n",
              "<style scoped>\n",
              "    .dataframe tbody tr th:only-of-type {\n",
              "        vertical-align: middle;\n",
              "    }\n",
              "\n",
              "    .dataframe tbody tr th {\n",
              "        vertical-align: top;\n",
              "    }\n",
              "\n",
              "    .dataframe thead th {\n",
              "        text-align: right;\n",
              "    }\n",
              "</style>\n",
              "<table border=\"1\" class=\"dataframe\">\n",
              "  <thead>\n",
              "    <tr style=\"text-align: right;\">\n",
              "      <th></th>\n",
              "      <th>label</th>\n",
              "      <th>features</th>\n",
              "      <th>Education</th>\n",
              "      <th>Occupation</th>\n",
              "      <th>Gender</th>\n",
              "      <th>MaritalStatus</th>\n",
              "      <th>HomeOwnerFlag</th>\n",
              "      <th>NumberCarsOwned</th>\n",
              "      <th>NumberChildrenAtHome</th>\n",
              "      <th>TotalChildren</th>\n",
              "      <th>YearlyIncome</th>\n",
              "      <th>AveMonthSpend</th>\n",
              "      <th>BikeBuyer</th>\n",
              "    </tr>\n",
              "  </thead>\n",
              "  <tbody>\n",
              "    <tr>\n",
              "      <th>0</th>\n",
              "      <td>0.0</td>\n",
              "      <td>(1.0, 0.0, 0.0, 0.0, 1.0, 0.0, 0.0, 0.0, 1.0, ...</td>\n",
              "      <td>Bachelors</td>\n",
              "      <td>Professional</td>\n",
              "      <td>M</td>\n",
              "      <td>M</td>\n",
              "      <td>1</td>\n",
              "      <td>0</td>\n",
              "      <td>0</td>\n",
              "      <td>2</td>\n",
              "      <td>137947</td>\n",
              "      <td>89</td>\n",
              "      <td>0</td>\n",
              "    </tr>\n",
              "    <tr>\n",
              "      <th>1</th>\n",
              "      <td>1.0</td>\n",
              "      <td>(1.0, 0.0, 0.0, 0.0, 1.0, 0.0, 0.0, 0.0, 1.0, ...</td>\n",
              "      <td>Bachelors</td>\n",
              "      <td>Professional</td>\n",
              "      <td>M</td>\n",
              "      <td>S</td>\n",
              "      <td>0</td>\n",
              "      <td>1</td>\n",
              "      <td>3</td>\n",
              "      <td>3</td>\n",
              "      <td>101141</td>\n",
              "      <td>117</td>\n",
              "      <td>1</td>\n",
              "    </tr>\n",
              "    <tr>\n",
              "      <th>2</th>\n",
              "      <td>0.0</td>\n",
              "      <td>[1.0, 0.0, 0.0, 0.0, 1.0, 0.0, 0.0, 0.0, 1.0, ...</td>\n",
              "      <td>Bachelors</td>\n",
              "      <td>Professional</td>\n",
              "      <td>M</td>\n",
              "      <td>M</td>\n",
              "      <td>1</td>\n",
              "      <td>1</td>\n",
              "      <td>3</td>\n",
              "      <td>3</td>\n",
              "      <td>91945</td>\n",
              "      <td>123</td>\n",
              "      <td>0</td>\n",
              "    </tr>\n",
              "    <tr>\n",
              "      <th>3</th>\n",
              "      <td>0.0</td>\n",
              "      <td>(1.0, 0.0, 0.0, 0.0, 1.0, 0.0, 0.0, 0.0, 0.0, ...</td>\n",
              "      <td>Bachelors</td>\n",
              "      <td>Professional</td>\n",
              "      <td>F</td>\n",
              "      <td>S</td>\n",
              "      <td>0</td>\n",
              "      <td>1</td>\n",
              "      <td>0</td>\n",
              "      <td>0</td>\n",
              "      <td>86688</td>\n",
              "      <td>50</td>\n",
              "      <td>0</td>\n",
              "    </tr>\n",
              "    <tr>\n",
              "      <th>4</th>\n",
              "      <td>1.0</td>\n",
              "      <td>(1.0, 0.0, 0.0, 0.0, 1.0, 0.0, 0.0, 0.0, 0.0, ...</td>\n",
              "      <td>Bachelors</td>\n",
              "      <td>Professional</td>\n",
              "      <td>F</td>\n",
              "      <td>S</td>\n",
              "      <td>1</td>\n",
              "      <td>4</td>\n",
              "      <td>5</td>\n",
              "      <td>5</td>\n",
              "      <td>92771</td>\n",
              "      <td>95</td>\n",
              "      <td>1</td>\n",
              "    </tr>\n",
              "  </tbody>\n",
              "</table>\n",
              "</div>"
            ],
            "text/plain": [
              "   label  ... BikeBuyer\n",
              "0    0.0  ...         0\n",
              "1    1.0  ...         1\n",
              "2    0.0  ...         0\n",
              "3    0.0  ...         0\n",
              "4    1.0  ...         1\n",
              "\n",
              "[5 rows x 13 columns]"
            ]
          },
          "metadata": {
            "tags": []
          },
          "execution_count": 25
        }
      ]
    },
    {
      "cell_type": "code",
      "metadata": {
        "id": "PdjGceyo1uDf",
        "colab_type": "code",
        "outputId": "f65b0332-2c08-4497-f273-ea2f627a113e",
        "colab": {
          "base_uri": "https://localhost:8080/",
          "height": 51
        }
      },
      "source": [
        "# Split the data into training and tests sets\n",
        "train, test = df.randomSplit([TRAINING_DATA_RATIO, 1 - TRAINING_DATA_RATIO], seed = RANDOM_SEED) \n",
        "print(\"Training Dataset Count: \" + str(train.count()))\n",
        "print(\"Test Dataset Count: \" + str(test.count()))"
      ],
      "execution_count": 26,
      "outputs": [
        {
          "output_type": "stream",
          "text": [
            "Training Dataset Count: 11485\n",
            "Test Dataset Count: 5034\n"
          ],
          "name": "stdout"
        }
      ]
    },
    {
      "cell_type": "markdown",
      "metadata": {
        "id": "VOyI_BAFxW-1",
        "colab_type": "text"
      },
      "source": [
        "# BUILDING THE MODELS"
      ]
    },
    {
      "cell_type": "markdown",
      "metadata": {
        "id": "SFd0p3xK6IOC",
        "colab_type": "text"
      },
      "source": [
        "## Regression model"
      ]
    },
    {
      "cell_type": "code",
      "metadata": {
        "id": "VG_cKAJB2kTO",
        "colab_type": "code",
        "colab": {}
      },
      "source": [
        "# Import the model from the Library\n",
        "from pyspark.ml.classification import LogisticRegression\n",
        "lr = LogisticRegression(featuresCol = 'features', labelCol = 'label', maxIter=10)\n",
        "lrModel = lr.fit(train) # Train the model"
      ],
      "execution_count": 0,
      "outputs": []
    },
    {
      "cell_type": "code",
      "metadata": {
        "id": "maZkEFqg2sz1",
        "colab_type": "code",
        "outputId": "dd997903-9522-4415-9ec1-305c00c0e651",
        "colab": {
          "base_uri": "https://localhost:8080/",
          "height": 265
        }
      },
      "source": [
        "# Displaying the model better coefficient\n",
        "import matplotlib.pyplot as plt\n",
        "beta = np.sort(lrModel.coefficients)\n",
        "plt.plot(beta)\n",
        "plt.ylabel('Beta Coefficients')\n",
        "plt.show()"
      ],
      "execution_count": 28,
      "outputs": [
        {
          "output_type": "display_data",
          "data": {
            "image/png": "[encoded data removed]",
            "text/plain": [
              "<Figure size 432x288 with 1 Axes>"
            ]
          },
          "metadata": {
            "tags": []
          }
        }
      ]
    },
    {
      "cell_type": "code",
      "metadata": {
        "id": "0tl0e2Xz2snx",
        "colab_type": "code",
        "outputId": "dc1a675a-5397-464a-8dca-53957f156729",
        "colab": {
          "base_uri": "https://localhost:8080/",
          "height": 312
        }
      },
      "source": [
        "# Displaying the model Performence (ROC)\n",
        "trainingSummary = lrModel.summary\n",
        "roc = trainingSummary.roc.toPandas()\n",
        "plt.plot(roc['FPR'],roc['TPR'])\n",
        "plt.ylabel('False Positive Rate')\n",
        "plt.xlabel('True Positive Rate')\n",
        "plt.title('ROC Curve')\n",
        "plt.show()\n",
        "\n",
        "print('Training set areaUnderROC: ' + str(trainingSummary.areaUnderROC))"
      ],
      "execution_count": 29,
      "outputs": [
        {
          "output_type": "display_data",
          "data": {
            "image/png": "[encoded data removed]",
            "text/plain": [
              "<Figure size 432x288 with 1 Axes>"
            ]
          },
          "metadata": {
            "tags": []
          }
        },
        {
          "output_type": "stream",
          "text": [
            "Training set areaUnderROC: 0.8294750871892838\n"
          ],
          "name": "stdout"
        }
      ]
    },
    {
      "cell_type": "code",
      "metadata": {
        "id": "jEG5iwAc3fhL",
        "colab_type": "code",
        "outputId": "22f7c670-fc19-466e-8cca-cbe4735f3e13",
        "colab": {
          "base_uri": "https://localhost:8080/",
          "height": 279
        }
      },
      "source": [
        "# Displaying the model Performence (Precision and Recall)\n",
        "pr = trainingSummary.pr.toPandas()\n",
        "plt.plot(pr['recall'],pr['precision'])\n",
        "plt.ylabel('Precision')\n",
        "plt.xlabel('Recall')\n",
        "plt.show()"
      ],
      "execution_count": 30,
      "outputs": [
        {
          "output_type": "display_data",
          "data": {
            "image/png": "[encoded data removed]",
            "text/plain": [
              "<Figure size 432x288 with 1 Axes>"
            ]
          },
          "metadata": {
            "tags": []
          }
        }
      ]
    },
    {
      "cell_type": "code",
      "metadata": {
        "id": "gjbbElpR3fZe",
        "colab_type": "code",
        "outputId": "b39c5c8c-7916-48b9-9e70-2e1b66f950e1",
        "colab": {
          "base_uri": "https://localhost:8080/",
          "height": 279
        }
      },
      "source": [
        "# Displaying the model Performence (F-Measure = F-Score)\n",
        "f = trainingSummary.fMeasureByThreshold.toPandas()\n",
        "plt.plot(f['threshold'],f['F-Measure'])\n",
        "plt.ylabel('F-Measure')\n",
        "plt.xlabel('Threshold')\n",
        "plt.show()"
      ],
      "execution_count": 31,
      "outputs": [
        {
          "output_type": "display_data",
          "data": {
            "image/png": "[encoded data removed]",
            "text/plain": [
              "<Figure size 432x288 with 1 Axes>"
            ]
          },
          "metadata": {
            "tags": []
          }
        }
      ]
    },
    {
      "cell_type": "code",
      "metadata": {
        "id": "kpxZCXXh3fQc",
        "colab_type": "code",
        "outputId": "2bb334a6-eaff-4342-8f94-0427f864417e",
        "colab": {
          "base_uri": "https://localhost:8080/",
          "height": 289
        }
      },
      "source": [
        "# Make predictions\n",
        "predictions = lrModel.transform(test)\n",
        "predictions.select('Education', 'Occupation', 'label', 'rawPrediction', 'prediction', 'probability').show(10)"
      ],
      "execution_count": 32,
      "outputs": [
        {
          "output_type": "stream",
          "text": [
            "+----------+------------+-----+--------------------+----------+--------------------+\n",
            "| Education|  Occupation|label|       rawPrediction|prediction|         probability|\n",
            "+----------+------------+-----+--------------------+----------+--------------------+\n",
            "|Bachelors |Professional|  0.0|[1.32429286775751...|       0.0|[0.78989504120501...|\n",
            "|Bachelors |Professional|  0.0|[1.27313151583368...|       0.0|[0.78127834047849...|\n",
            "|Bachelors |Professional|  0.0|[1.15399273346337...|       0.0|[0.76023945017912...|\n",
            "|Bachelors |Professional|  0.0|[0.83118289114326...|       0.0|[0.69660498782662...|\n",
            "|Bachelors |Professional|  0.0|[1.86177610068558...|       0.0|[0.86550383275784...|\n",
            "|Bachelors |Professional|  0.0|[1.02492279122016...|       0.0|[0.73593038968931...|\n",
            "|Bachelors |Professional|  0.0|[0.87533904301498...|       0.0|[0.70585542606189...|\n",
            "|Bachelors |Professional|  0.0|[0.72751057904386...|       0.0|[0.67425874874377...|\n",
            "|Bachelors |Professional|  0.0|[0.62307970189714...|       0.0|[0.65091865424691...|\n",
            "|Bachelors |Professional|  0.0|[1.65248297107647...|       0.0|[0.83922634874434...|\n",
            "+----------+------------+-----+--------------------+----------+--------------------+\n",
            "only showing top 10 rows\n",
            "\n"
          ],
          "name": "stdout"
        }
      ]
    },
    {
      "cell_type": "markdown",
      "metadata": {
        "id": "8l5uNcw_y84I",
        "colab_type": "text"
      },
      "source": [
        "## Evaluating the model "
      ]
    },
    {
      "cell_type": "code",
      "metadata": {
        "id": "JtRPoUhO3fGE",
        "colab_type": "code",
        "outputId": "88599d00-eafe-4bb5-bc16-532d8b95b426",
        "colab": {
          "base_uri": "https://localhost:8080/",
          "height": 34
        }
      },
      "source": [
        "from pyspark.ml.evaluation import BinaryClassificationEvaluator\n",
        "\n",
        "# Select prediction, true label and compute test error\n",
        "evaluator = BinaryClassificationEvaluator() # MulticlassClassificationEvaluator()\n",
        "print('Test Area Under ROC', evaluator.evaluate(predictions))"
      ],
      "execution_count": 33,
      "outputs": [
        {
          "output_type": "stream",
          "text": [
            "Test Area Under ROC 0.8358222037321473\n"
          ],
          "name": "stdout"
        }
      ]
    },
    {
      "cell_type": "code",
      "metadata": {
        "id": "KKAxvgDZ2sGX",
        "colab_type": "code",
        "outputId": "a738bc10-59e8-4d6c-f511-901bde1a06bd",
        "colab": {
          "base_uri": "https://localhost:8080/",
          "height": 34
        }
      },
      "source": [
        "evaluator.getMetricName()"
      ],
      "execution_count": 34,
      "outputs": [
        {
          "output_type": "execute_result",
          "data": {
            "text/plain": [
              "'areaUnderROC'"
            ]
          },
          "metadata": {
            "tags": []
          },
          "execution_count": 34
        }
      ]
    },
    {
      "cell_type": "code",
      "metadata": {
        "id": "EPzglFma5vl5",
        "colab_type": "code",
        "outputId": "fa26b48e-fdec-4280-a16b-335539083438",
        "colab": {
          "base_uri": "https://localhost:8080/",
          "height": 34
        }
      },
      "source": [
        "from pyspark.ml.tuning import ParamGridBuilder, CrossValidator\n",
        "\n",
        "# Create ParamGrid for Cross Validation\n",
        "paramGrid = (ParamGridBuilder()\n",
        "             .addGrid(lr.regParam, [0.01, 0.5, 2.0])\n",
        "             .addGrid(lr.elasticNetParam, [0.0, 0.5, 1.0])\n",
        "             .addGrid(lr.maxIter, [1, 5, 10])\n",
        "             .build())\n",
        "\n",
        "cv = CrossValidator(estimator=lr, estimatorParamMaps=paramGrid, evaluator=evaluator, numFolds=5)\n",
        "\n",
        "cvModel = cv.fit(train)\n",
        "predictions = cvModel.transform(test)\n",
        "print('Test Area Under ROC', evaluator.evaluate(predictions))"
      ],
      "execution_count": 35,
      "outputs": [
        {
          "output_type": "stream",
          "text": [
            "Test Area Under ROC 0.8368928500312843\n"
          ],
          "name": "stdout"
        }
      ]
    },
    {
      "cell_type": "markdown",
      "metadata": {
        "id": "bfNZ2Q1U6i0a",
        "colab_type": "text"
      },
      "source": [
        "## Decision Tree model"
      ]
    },
    {
      "cell_type": "code",
      "metadata": {
        "id": "CYNn48xF5vjl",
        "colab_type": "code",
        "outputId": "257b635c-5e92-4b5a-b4e5-f078043b40f1",
        "colab": {
          "base_uri": "https://localhost:8080/",
          "height": 289
        }
      },
      "source": [
        "from pyspark.ml.classification import DecisionTreeClassifier\n",
        "\n",
        "dt = DecisionTreeClassifier(featuresCol = 'features', labelCol = 'label', maxDepth = 3)\n",
        "dtModel = dt.fit(train)\n",
        "predictions = dtModel.transform(test)\n",
        "predictions.select('Education', 'Occupation', 'label', 'rawPrediction', 'prediction', 'probability').show(10)"
      ],
      "execution_count": 36,
      "outputs": [
        {
          "output_type": "stream",
          "text": [
            "+----------+------------+-----+--------------+----------+--------------------+\n",
            "| Education|  Occupation|label| rawPrediction|prediction|         probability|\n",
            "+----------+------------+-----+--------------+----------+--------------------+\n",
            "|Bachelors |Professional|  0.0|[3981.0,541.0]|       0.0|[0.88036267138434...|\n",
            "|Bachelors |Professional|  0.0|[3981.0,541.0]|       0.0|[0.88036267138434...|\n",
            "|Bachelors |Professional|  0.0|[3981.0,541.0]|       0.0|[0.88036267138434...|\n",
            "|Bachelors |Professional|  0.0|[3981.0,541.0]|       0.0|[0.88036267138434...|\n",
            "|Bachelors |Professional|  0.0|[3981.0,541.0]|       0.0|[0.88036267138434...|\n",
            "|Bachelors |Professional|  0.0|[3981.0,541.0]|       0.0|[0.88036267138434...|\n",
            "|Bachelors |Professional|  0.0|[3981.0,541.0]|       0.0|[0.88036267138434...|\n",
            "|Bachelors |Professional|  0.0|[3981.0,541.0]|       0.0|[0.88036267138434...|\n",
            "|Bachelors |Professional|  0.0|[3981.0,541.0]|       0.0|[0.88036267138434...|\n",
            "|Bachelors |Professional|  0.0|[3981.0,541.0]|       0.0|[0.88036267138434...|\n",
            "+----------+------------+-----+--------------+----------+--------------------+\n",
            "only showing top 10 rows\n",
            "\n"
          ],
          "name": "stdout"
        }
      ]
    },
    {
      "cell_type": "code",
      "metadata": {
        "id": "nS_8J8y17N_K",
        "colab_type": "code",
        "outputId": "46804ebb-fbb7-412b-8630-e04fd1db3e7a",
        "colab": {
          "base_uri": "https://localhost:8080/",
          "height": 34
        }
      },
      "source": [
        "evaluator = BinaryClassificationEvaluator()\n",
        "print(\"Test Area Under ROC: \" + str(evaluator.evaluate(predictions, {evaluator.metricName: \"areaUnderROC\"})))"
      ],
      "execution_count": 37,
      "outputs": [
        {
          "output_type": "stream",
          "text": [
            "Test Area Under ROC: 0.6372277159071514\n"
          ],
          "name": "stdout"
        }
      ]
    },
    {
      "cell_type": "code",
      "metadata": {
        "id": "YNqmPS7o5vgT",
        "colab_type": "code",
        "outputId": "1ddd9365-5c71-4b9a-b5e7-3999186c75f5",
        "colab": {
          "base_uri": "https://localhost:8080/",
          "height": 34
        }
      },
      "source": [
        "evaluator.getMetricName()"
      ],
      "execution_count": 38,
      "outputs": [
        {
          "output_type": "execute_result",
          "data": {
            "text/plain": [
              "'areaUnderROC'"
            ]
          },
          "metadata": {
            "tags": []
          },
          "execution_count": 38
        }
      ]
    },
    {
      "cell_type": "markdown",
      "metadata": {
        "id": "WPf4p1LE7p3o",
        "colab_type": "text"
      },
      "source": [
        "## Random Forest model"
      ]
    },
    {
      "cell_type": "code",
      "metadata": {
        "id": "PHlEUMZ35vZV",
        "colab_type": "code",
        "outputId": "e89a5f90-0496-4a11-db75-fd6f8349c0be",
        "colab": {
          "base_uri": "https://localhost:8080/",
          "height": 289
        }
      },
      "source": [
        "from pyspark.ml.classification import RandomForestClassifier\n",
        "\n",
        "rf = RandomForestClassifier(featuresCol = 'features', labelCol = 'label')\n",
        "rfModel = rf.fit(train)\n",
        "predictions = rfModel.transform(test)\n",
        "predictions.select('Education', 'Occupation', 'label', 'rawPrediction', 'prediction', 'probability').show(10)"
      ],
      "execution_count": 39,
      "outputs": [
        {
          "output_type": "stream",
          "text": [
            "+----------+------------+-----+--------------------+----------+--------------------+\n",
            "| Education|  Occupation|label|       rawPrediction|prediction|         probability|\n",
            "+----------+------------+-----+--------------------+----------+--------------------+\n",
            "|Bachelors |Professional|  0.0|[14.5689688098839...|       0.0|[0.72844844049419...|\n",
            "|Bachelors |Professional|  0.0|[14.3403696240956...|       0.0|[0.71701848120478...|\n",
            "|Bachelors |Professional|  0.0|[14.4946904673999...|       0.0|[0.72473452336999...|\n",
            "|Bachelors |Professional|  0.0|[14.5689688098839...|       0.0|[0.72844844049419...|\n",
            "|Bachelors |Professional|  0.0|[16.1094790794793...|       0.0|[0.80547395397396...|\n",
            "|Bachelors |Professional|  0.0|[14.5770159407420...|       0.0|[0.72885079703710...|\n",
            "|Bachelors |Professional|  0.0|[14.5770159407420...|       0.0|[0.72885079703710...|\n",
            "|Bachelors |Professional|  0.0|[14.5770159407420...|       0.0|[0.72885079703710...|\n",
            "|Bachelors |Professional|  0.0|[14.7313367840463...|       0.0|[0.73656683920231...|\n",
            "|Bachelors |Professional|  0.0|[14.4145657020443...|       0.0|[0.72072828510221...|\n",
            "+----------+------------+-----+--------------------+----------+--------------------+\n",
            "only showing top 10 rows\n",
            "\n"
          ],
          "name": "stdout"
        }
      ]
    },
    {
      "cell_type": "code",
      "metadata": {
        "id": "zKBe8oqH5vPl",
        "colab_type": "code",
        "outputId": "16a2c0dd-91b0-4a44-d26c-916a30eccc45",
        "colab": {
          "base_uri": "https://localhost:8080/",
          "height": 34
        }
      },
      "source": [
        "evaluator = BinaryClassificationEvaluator()\n",
        "print(\"Test Area Under ROC: \" + str(evaluator.evaluate(predictions, {evaluator.metricName: \"areaUnderROC\"})))"
      ],
      "execution_count": 40,
      "outputs": [
        {
          "output_type": "stream",
          "text": [
            "Test Area Under ROC: 0.8320480955225569\n"
          ],
          "name": "stdout"
        }
      ]
    },
    {
      "cell_type": "code",
      "metadata": {
        "id": "W32VA3pO8cZt",
        "colab_type": "code",
        "colab": {
          "base_uri": "https://localhost:8080/",
          "height": 34
        },
        "outputId": "65622484-e9d9-4ef5-cde7-bd4e7f594b8a"
      },
      "source": [
        "evaluator.getMetricName()"
      ],
      "execution_count": 41,
      "outputs": [
        {
          "output_type": "execute_result",
          "data": {
            "text/plain": [
              "'areaUnderROC'"
            ]
          },
          "metadata": {
            "tags": []
          },
          "execution_count": 41
        }
      ]
    },
    {
      "cell_type": "code",
      "metadata": {
        "id": "YEIggvNj8cYB",
        "colab_type": "code",
        "colab": {
          "base_uri": "https://localhost:8080/",
          "height": 326
        },
        "outputId": "dd5f74d4-614c-42b2-d04d-2070ccc0602f"
      },
      "source": [
        "print(rf.explainParams())"
      ],
      "execution_count": 42,
      "outputs": [
        {
          "output_type": "stream",
          "text": [
            "cacheNodeIds: If false, the algorithm will pass trees to executors to match instances with nodes. If true, the algorithm will cache node IDs for each instance. Caching can speed up training of deeper trees. Users can set how often should the cache be checkpointed or disable it by setting checkpointInterval. (default: False)\n",
            "checkpointInterval: set checkpoint interval (>= 1) or disable checkpoint (-1). E.g. 10 means that the cache will get checkpointed every 10 iterations. Note: this setting will be ignored if the checkpoint directory is not set in the SparkContext. (default: 10)\n",
            "featureSubsetStrategy: The number of features to consider for splits at each tree node. Supported options: 'auto' (choose automatically for task: If numTrees == 1, set to 'all'. If numTrees > 1 (forest), set to 'sqrt' for classification and to 'onethird' for regression), 'all' (use all features), 'onethird' (use 1/3 of the features), 'sqrt' (use sqrt(number of features)), 'log2' (use log2(number of features)), 'n' (when n is in the range (0, 1.0], use n * number of features. When n is in the range (1, number of features), use n features). default = 'auto' (default: auto)\n",
            "featuresCol: features column name. (default: features, current: features)\n",
            "impurity: Criterion used for information gain calculation (case-insensitive). Supported options: entropy, gini (default: gini)\n",
            "labelCol: label column name. (default: label, current: label)\n",
            "maxBins: Max number of bins for discretizing continuous features.  Must be >=2 and >= number of categories for any categorical feature. (default: 32)\n",
            "maxDepth: Maximum depth of the tree. (>= 0) E.g., depth 0 means 1 leaf node; depth 1 means 1 internal node + 2 leaf nodes. (default: 5)\n",
            "maxMemoryInMB: Maximum memory in MB allocated to histogram aggregation. If too small, then 1 node will be split per iteration, and its aggregates may exceed this size. (default: 256)\n",
            "minInfoGain: Minimum information gain for a split to be considered at a tree node. (default: 0.0)\n",
            "minInstancesPerNode: Minimum number of instances each child must have after split. If a split causes the left or right child to have fewer than minInstancesPerNode, the split will be discarded as invalid. Should be >= 1. (default: 1)\n",
            "numTrees: Number of trees to train (>= 1). (default: 20)\n",
            "predictionCol: prediction column name. (default: prediction)\n",
            "probabilityCol: Column name for predicted class conditional probabilities. Note: Not all models output well-calibrated probability estimates! These probabilities should be treated as confidences, not precise probabilities. (default: probability)\n",
            "rawPredictionCol: raw prediction (a.k.a. confidence) column name. (default: rawPrediction)\n",
            "seed: random seed. (default: 857522443945657378)\n",
            "subsamplingRate: Fraction of the training data used for learning each decision tree, in range (0, 1]. (default: 1.0)\n"
          ],
          "name": "stdout"
        }
      ]
    },
    {
      "cell_type": "markdown",
      "metadata": {
        "id": "kM75drzy86eg",
        "colab_type": "text"
      },
      "source": [
        "## Gradient-boosted Tree model"
      ]
    },
    {
      "cell_type": "code",
      "metadata": {
        "id": "AAhDidiK8cTS",
        "colab_type": "code",
        "outputId": "d3c51304-a2c1-4f2c-c16a-9ec716020db5",
        "colab": {
          "base_uri": "https://localhost:8080/",
          "height": 289
        }
      },
      "source": [
        "from pyspark.ml.classification import GBTClassifier\n",
        "\n",
        "gbt = GBTClassifier(maxIter=10)\n",
        "gbtModel = gbt.fit(train)\n",
        "predictions = gbtModel.transform(test)\n",
        "predictions.select('Education', 'Occupation', 'label', 'rawPrediction', 'prediction', 'probability').show(10)"
      ],
      "execution_count": 43,
      "outputs": [
        {
          "output_type": "stream",
          "text": [
            "+----------+------------+-----+--------------------+----------+--------------------+\n",
            "| Education|  Occupation|label|       rawPrediction|prediction|         probability|\n",
            "+----------+------------+-----+--------------------+----------+--------------------+\n",
            "|Bachelors |Professional|  0.0|[0.31398312837277...|       0.0|[0.65202817418672...|\n",
            "|Bachelors |Professional|  0.0|[0.31398312837277...|       0.0|[0.65202817418672...|\n",
            "|Bachelors |Professional|  0.0|[0.31398312837277...|       0.0|[0.65202817418672...|\n",
            "|Bachelors |Professional|  0.0|[0.30405834292165...|       0.0|[0.64751107305717...|\n",
            "|Bachelors |Professional|  0.0|[1.07368594457440...|       0.0|[0.89542293435818...|\n",
            "|Bachelors |Professional|  0.0|[0.50898224374608...|       0.0|[0.73457591671319...|\n",
            "|Bachelors |Professional|  0.0|[0.50898224374608...|       0.0|[0.73457591671319...|\n",
            "|Bachelors |Professional|  0.0|[0.59270671589685...|       0.0|[0.76591975678359...|\n",
            "|Bachelors |Professional|  0.0|[0.59270671589685...|       0.0|[0.76591975678359...|\n",
            "|Bachelors |Professional|  0.0|[0.53025951046742...|       0.0|[0.74278971838344...|\n",
            "+----------+------------+-----+--------------------+----------+--------------------+\n",
            "only showing top 10 rows\n",
            "\n"
          ],
          "name": "stdout"
        }
      ]
    },
    {
      "cell_type": "code",
      "metadata": {
        "id": "YdrKL2Gf9ea2",
        "colab_type": "code",
        "colab": {
          "base_uri": "https://localhost:8080/",
          "height": 34
        },
        "outputId": "1b92a283-8659-4771-a945-7d06ad16ed70"
      },
      "source": [
        "evaluator = BinaryClassificationEvaluator()\n",
        "print(\"Test Area Under ROC: \" + str(evaluator.evaluate(predictions, {evaluator.metricName: \"areaUnderROC\"})))"
      ],
      "execution_count": 44,
      "outputs": [
        {
          "output_type": "stream",
          "text": [
            "Test Area Under ROC: 0.8427595366103409\n"
          ],
          "name": "stdout"
        }
      ]
    },
    {
      "cell_type": "code",
      "metadata": {
        "id": "l6OU5k8g8cLS",
        "colab_type": "code",
        "outputId": "00b829f7-feba-416b-ac57-8c36cf9bb311",
        "colab": {
          "base_uri": "https://localhost:8080/",
          "height": 34
        }
      },
      "source": [
        "evaluator.getMetricName()"
      ],
      "execution_count": 45,
      "outputs": [
        {
          "output_type": "execute_result",
          "data": {
            "text/plain": [
              "'areaUnderROC'"
            ]
          },
          "metadata": {
            "tags": []
          },
          "execution_count": 45
        }
      ]
    },
    {
      "cell_type": "code",
      "metadata": {
        "id": "OiysGIh88cI5",
        "colab_type": "code",
        "colab": {
          "base_uri": "https://localhost:8080/",
          "height": 309
        },
        "outputId": "8b30e61c-1b2c-4aae-850c-dd91c0af4f36"
      },
      "source": [
        "print(gbt.explainParams())"
      ],
      "execution_count": 46,
      "outputs": [
        {
          "output_type": "stream",
          "text": [
            "cacheNodeIds: If false, the algorithm will pass trees to executors to match instances with nodes. If true, the algorithm will cache node IDs for each instance. Caching can speed up training of deeper trees. Users can set how often should the cache be checkpointed or disable it by setting checkpointInterval. (default: False)\n",
            "checkpointInterval: set checkpoint interval (>= 1) or disable checkpoint (-1). E.g. 10 means that the cache will get checkpointed every 10 iterations. Note: this setting will be ignored if the checkpoint directory is not set in the SparkContext. (default: 10)\n",
            "featureSubsetStrategy: The number of features to consider for splits at each tree node. Supported options: 'auto' (choose automatically for task: If numTrees == 1, set to 'all'. If numTrees > 1 (forest), set to 'sqrt' for classification and to 'onethird' for regression), 'all' (use all features), 'onethird' (use 1/3 of the features), 'sqrt' (use sqrt(number of features)), 'log2' (use log2(number of features)), 'n' (when n is in the range (0, 1.0], use n * number of features. When n is in the range (1, number of features), use n features). default = 'auto' (default: all)\n",
            "featuresCol: features column name. (default: features)\n",
            "labelCol: label column name. (default: label)\n",
            "lossType: Loss function which GBT tries to minimize (case-insensitive). Supported options: logistic (default: logistic)\n",
            "maxBins: Max number of bins for discretizing continuous features.  Must be >=2 and >= number of categories for any categorical feature. (default: 32)\n",
            "maxDepth: Maximum depth of the tree. (>= 0) E.g., depth 0 means 1 leaf node; depth 1 means 1 internal node + 2 leaf nodes. (default: 5)\n",
            "maxIter: max number of iterations (>= 0). (default: 20, current: 10)\n",
            "maxMemoryInMB: Maximum memory in MB allocated to histogram aggregation. If too small, then 1 node will be split per iteration, and its aggregates may exceed this size. (default: 256)\n",
            "minInfoGain: Minimum information gain for a split to be considered at a tree node. (default: 0.0)\n",
            "minInstancesPerNode: Minimum number of instances each child must have after split. If a split causes the left or right child to have fewer than minInstancesPerNode, the split will be discarded as invalid. Should be >= 1. (default: 1)\n",
            "predictionCol: prediction column name. (default: prediction)\n",
            "seed: random seed. (default: -365700606642603339)\n",
            "stepSize: Step size (a.k.a. learning rate) in interval (0, 1] for shrinking the contribution of each estimator. (default: 0.1)\n",
            "subsamplingRate: Fraction of the training data used for learning each decision tree, in range (0, 1]. (default: 1.0)\n"
          ],
          "name": "stdout"
        }
      ]
    },
    {
      "cell_type": "markdown",
      "metadata": {
        "id": "0yAw5aSbc1Ba",
        "colab_type": "text"
      },
      "source": [
        "### Sweeping model parameters for optimization"
      ]
    },
    {
      "cell_type": "code",
      "metadata": {
        "id": "0lQFchL89q9B",
        "colab_type": "code",
        "outputId": "2c270179-e32a-42ab-cdbf-1e483ef03094",
        "colab": {
          "base_uri": "https://localhost:8080/",
          "height": 34
        }
      },
      "source": [
        "from pyspark.ml.tuning import ParamGridBuilder, CrossValidator\n",
        "\n",
        "paramGrid = (ParamGridBuilder()\n",
        "             .addGrid(gbt.maxDepth, [2, 4, 6])\n",
        "             .addGrid(gbt.maxBins, [20, 60])\n",
        "             .addGrid(gbt.maxIter, [10, 20])\n",
        "             .build())\n",
        "\n",
        "cv = CrossValidator(estimator=gbt, estimatorParamMaps=paramGrid, evaluator=evaluator, numFolds=5)\n",
        "\n",
        "# Run cross validations.  This can take about 6 minutes since it is training over 20 trees!\n",
        "cvModel = cv.fit(train)\n",
        "predictions = cvModel.transform(test)\n",
        "evaluator.evaluate(predictions)"
      ],
      "execution_count": 47,
      "outputs": [
        {
          "output_type": "execute_result",
          "data": {
            "text/plain": [
              "0.8451073313136417"
            ]
          },
          "metadata": {
            "tags": []
          },
          "execution_count": 47
        }
      ]
    },
    {
      "cell_type": "markdown",
      "metadata": {
        "id": "tj8L8x2KcpGM",
        "colab_type": "text"
      },
      "source": [
        "## Conclusion\n",
        "\n",
        "In this Project (STILL UNDER CONSTRUCTION) our goal is to build a best ML model to predict weather a customer will buy or not by Bicycle. Therefore to get there we started with several data preprocessing techniques including; feature selection, investing if any collinealy in the dataset, defining and preprocessing both categorical and numerical features, generating a labelIndexer and indexed feature vector in order to get data ready for model build process.\n",
        "\n",
        "so far our candidate algorithms have yeild following results:\n",
        "- Regression model ROC   83.5%,\n",
        "- Decision Tree model ROC  63.7%, \n",
        "- Random Forest model ROC  83.3% and \n",
        "- Gradient Boost model ROC  84.5%.\n",
        "\n",
        "Our next steps include dealing with data imbalance that came with the dataset also considering using other model improvement techniques"
      ]
    }
  ]
}