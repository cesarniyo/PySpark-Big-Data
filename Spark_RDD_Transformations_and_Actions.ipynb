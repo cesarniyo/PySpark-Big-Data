{
  "nbformat": 4,
  "nbformat_minor": 0,
  "metadata": {
    "colab": {
      "name": "Spark RDD Transformations and Actions.ipynb",
      "provenance": [],
      "collapsed_sections": [],
      "toc_visible": true,
      "include_colab_link": true
    },
    "kernelspec": {
      "name": "python3",
      "display_name": "Python 3"
    },
    "accelerator": "GPU"
  },
  "cells": [
    {
      "cell_type": "markdown",
      "metadata": {
        "id": "view-in-github",
        "colab_type": "text"
      },
      "source": [
        "<a href=\"https://colab.research.google.com/github/cesarniyo/PySpark-Big-Data/blob/master/Spark_RDD_Transformations_and_Actions.ipynb\" target=\"_parent\"><img src=\"https://colab.research.google.com/assets/colab-badge.svg\" alt=\"Open In Colab\"/></a>"
      ]
    },
    {
      "cell_type": "markdown",
      "metadata": {
        "id": "CBp4F-p1UndT",
        "colab_type": "text"
      },
      "source": [
        "# Spark RDD Transformations and Action"
      ]
    },
    {
      "cell_type": "markdown",
      "metadata": {
        "id": "SxdC_eUATPrD",
        "colab_type": "text"
      },
      "source": [
        "Let's start by defining some important terms:\n",
        "\n",
        "### Important Terms\n",
        "\n",
        "Term                   |Definition\n",
        "----                   |-------\n",
        "RDD                    |Resilient Distributed Dataset\n",
        "Transformation         |Spark operation that produces an RDD\n",
        "Action                 |Spark operation that produces a local object\n",
        "Spark Job              |Sequence of transformations on data with a final action"
      ]
    },
    {
      "cell_type": "markdown",
      "metadata": {
        "id": "w5yp07gITT-O",
        "colab_type": "text"
      },
      "source": [
        "### Creating an RDD\n",
        "\n",
        "There are two common ways to create an RDD:\n",
        "\n",
        "Method                      |Result\n",
        "----------                               |-------\n",
        "`sc.parallelize(array)`                  |Create RDD of elements of array (or list)\n",
        "`sc.textFile(path/to/file)`                      |Create RDD of lines from file"
      ]
    },
    {
      "cell_type": "markdown",
      "metadata": {
        "id": "b0T7q_oAUBCW",
        "colab_type": "text"
      },
      "source": [
        "### RDD Transformations\n",
        "\n",
        "We can use transformations to create a set of instructions we want to preform on the RDD (before we call an action and actually execute them).\n",
        "\n",
        "Transformation Example                          |Result\n",
        "----------                               |-------\n",
        "`filter(lambda x: x % 2 == 0)`           |Discard non-even elements\n",
        "`map(lambda x: x * 2)`                   |Multiply each RDD element by `2`\n",
        "`map(lambda x: x.split())`               |Split each string into words\n",
        "`flatMap(lambda x: x.split())`           |Split each string into words and flatten sequence\n",
        "`sample(withReplacement=True,0.25)`      |Create sample of 25% of elements with replacement\n",
        "`union(rdd)`                             |Append `rdd` to existing RDD\n",
        "`distinct()`                             |Remove duplicates in RDD\n",
        "`sortBy(lambda x: x, ascending=False)`   |Sort elements in descending order"
      ]
    },
    {
      "cell_type": "markdown",
      "metadata": {
        "id": "b1313h8LUQnQ",
        "colab_type": "text"
      },
      "source": [
        "### RDD Actions\n",
        "\n",
        "Once you have your 'recipe' of transformations ready, what you will do next is execute them by calling an action. Here are some common actions:\n",
        "\n",
        "Action                             |Result\n",
        "----------                             |-------\n",
        "`collect()`                            |Convert RDD to in-memory list \n",
        "`take(3)`                              |First 3 elements of RDD \n",
        "`top(3)`                               |Top 3 elements of RDD\n",
        "`takeSample(withReplacement=True,3)`   |Create sample of 3 elements with replacement\n",
        "`sum()`                                |Find element sum (assumes numeric elements)\n",
        "`mean()`                               |Find element mean (assumes numeric elements)\n",
        "`stdev()`                              |Find element deviation (assumes numeric elements)"
      ]
    },
    {
      "cell_type": "markdown",
      "metadata": {
        "id": "3eQlQP79azj4",
        "colab_type": "text"
      },
      "source": [
        "# Installing and Importing dependencies"
      ]
    },
    {
      "cell_type": "code",
      "metadata": {
        "id": "CVTNHyDWzQVJ",
        "colab_type": "code",
        "colab": {}
      },
      "source": [
        "# Install spark-related dependencies\n",
        "!apt-get install openjdk-8-jdk-headless -qq > /dev/null\n",
        "!wget -q https://www-us.apache.org/dist/spark/spark-2.4.4/spark-2.4.4-bin-hadoop2.7.tgz\n",
        "!tar xf spark-2.4.4-bin-hadoop2.7.tgz\n",
        "\n",
        "\n"
      ],
      "execution_count": 0,
      "outputs": []
    },
    {
      "cell_type": "code",
      "metadata": {
        "id": "_f2rtn8wzVzf",
        "colab_type": "code",
        "colab": {}
      },
      "source": [
        "# Install pyspark and findspark\n",
        "!pip install pyspark\n",
        "!pip install -q findspark\n",
        "\n"
      ],
      "execution_count": 0,
      "outputs": []
    },
    {
      "cell_type": "code",
      "metadata": {
        "id": "ASkzn50PtnJL",
        "colab_type": "code",
        "colab": {}
      },
      "source": [
        "# Set up required environment variables\n",
        "import os\n",
        "os.environ[\"JAVA_HOME\"] = \"/usr/lib/jvm/java-8-openjdk-amd64\"\n",
        "os.environ[\"SPARK_HOME\"] = \"/content/spark-2.4.4-bin-hadoop2.7\"\n",
        "\n"
      ],
      "execution_count": 0,
      "outputs": []
    },
    {
      "cell_type": "code",
      "metadata": {
        "id": "DCtO4p6eiLK7",
        "colab_type": "code",
        "colab": {}
      },
      "source": [
        "# Importing SparkContext\n",
        "from pyspark import SparkContext\n",
        "from pyspark import SparkConf\n",
        "\n",
        "\n"
      ],
      "execution_count": 0,
      "outputs": []
    },
    {
      "cell_type": "code",
      "metadata": {
        "id": "uf4BxACgyH7M",
        "colab_type": "code",
        "colab": {}
      },
      "source": [
        "# Import and initialize findspark\n",
        "import findspark\n",
        "findspark.init()\n"
      ],
      "execution_count": 0,
      "outputs": []
    },
    {
      "cell_type": "code",
      "metadata": {
        "id": "oFK4NDwPkrAE",
        "colab_type": "code",
        "outputId": "5bd696d3-0e27-4186-9361-da96c68a67dc",
        "colab": {
          "base_uri": "https://localhost:8080/",
          "height": 34
        }
      },
      "source": [
        "# Creating a small text file to practice on\n",
        "%%writefile example.txt\n",
        "first line\n",
        "second line\n",
        "second second line\n",
        "third line\n",
        "fourth line\n",
        "\n"
      ],
      "execution_count": 0,
      "outputs": [
        {
          "output_type": "stream",
          "text": [
            "Writing example.txt\n"
          ],
          "name": "stdout"
        }
      ]
    },
    {
      "cell_type": "code",
      "metadata": {
        "id": "WP7M_pP9omjo",
        "colab_type": "code",
        "colab": {}
      },
      "source": [
        "# Creating spark context\n",
        "sc=SparkContext()\n"
      ],
      "execution_count": 0,
      "outputs": []
    },
    {
      "cell_type": "markdown",
      "metadata": {
        "id": "t5Icab_2vVOr",
        "colab_type": "text"
      },
      "source": [
        "# Now let's perform some transformations and actions on this text file:"
      ]
    },
    {
      "cell_type": "code",
      "metadata": {
        "id": "F0UhDSLiJr3M",
        "colab_type": "code",
        "outputId": "887cbe08-2581-4c4d-985b-36eba6c177f9",
        "colab": {
          "base_uri": "https://localhost:8080/",
          "height": 34
        }
      },
      "source": [
        "# Creating RDD\n",
        "sc.textFile('example.txt')"
      ],
      "execution_count": 0,
      "outputs": [
        {
          "output_type": "execute_result",
          "data": {
            "text/plain": [
              "example.txt MapPartitionsRDD[1] at textFile at NativeMethodAccessorImpl.java:0"
            ]
          },
          "metadata": {
            "tags": []
          },
          "execution_count": 8
        }
      ]
    },
    {
      "cell_type": "code",
      "metadata": {
        "id": "px24M6XSvxPK",
        "colab_type": "code",
        "colab": {}
      },
      "source": [
        "# Save a reference to this RDD\n",
        "text_rdd=sc.textFile('example.txt')"
      ],
      "execution_count": 0,
      "outputs": []
    },
    {
      "cell_type": "code",
      "metadata": {
        "id": "FKiz-7tdYz2g",
        "colab_type": "code",
        "outputId": "5970b8ea-f623-4052-fa96-edd295f8a6f8",
        "colab": {
          "base_uri": "https://localhost:8080/",
          "height": 34
        }
      },
      "source": [
        "# Display the number of items in RDD\n",
        "text_rdd.count()"
      ],
      "execution_count": 0,
      "outputs": [
        {
          "output_type": "execute_result",
          "data": {
            "text/plain": [
              "5"
            ]
          },
          "metadata": {
            "tags": []
          },
          "execution_count": 10
        }
      ]
    },
    {
      "cell_type": "code",
      "metadata": {
        "id": "smvlu9viY_Ni",
        "colab_type": "code",
        "outputId": "b186492d-fab4-4a9c-eaab-a0e1f6a83f6c",
        "colab": {
          "base_uri": "https://localhost:8080/",
          "height": 34
        }
      },
      "source": [
        "# Grabbing the first item\n",
        "text_rdd.first()"
      ],
      "execution_count": 0,
      "outputs": [
        {
          "output_type": "execute_result",
          "data": {
            "text/plain": [
              "'first line'"
            ]
          },
          "metadata": {
            "tags": []
          },
          "execution_count": 11
        }
      ]
    },
    {
      "cell_type": "code",
      "metadata": {
        "id": "gLO2xIH-ZPPl",
        "colab_type": "code",
        "colab": {}
      },
      "source": [
        "# Find a line with a word 'second'\n",
        "findsec=text_rdd.filter(lambda line: 'second' in line)"
      ],
      "execution_count": 0,
      "outputs": []
    },
    {
      "cell_type": "code",
      "metadata": {
        "id": "I1FcTBb0YcsR",
        "colab_type": "code",
        "outputId": "bfdcb09a-41bc-4642-b469-2eb376c45509",
        "colab": {
          "base_uri": "https://localhost:8080/",
          "height": 34
        }
      },
      "source": [
        "# Show the found results\n",
        "findsec.collect()"
      ],
      "execution_count": 0,
      "outputs": [
        {
          "output_type": "execute_result",
          "data": {
            "text/plain": [
              "['second line', 'second second line']"
            ]
          },
          "metadata": {
            "tags": []
          },
          "execution_count": 13
        }
      ]
    },
    {
      "cell_type": "code",
      "metadata": {
        "id": "nGnpGgvdZugG",
        "colab_type": "code",
        "outputId": "4402c79e-47eb-4d50-87a1-0bdab8ea895b",
        "colab": {
          "base_uri": "https://localhost:8080/",
          "height": 34
        }
      },
      "source": [
        "# Count items in findsec \n",
        "findsec.count()"
      ],
      "execution_count": 0,
      "outputs": [
        {
          "output_type": "execute_result",
          "data": {
            "text/plain": [
              "2"
            ]
          },
          "metadata": {
            "tags": []
          },
          "execution_count": 14
        }
      ]
    },
    {
      "cell_type": "markdown",
      "metadata": {
        "id": "iIScSgr1wiwH",
        "colab_type": "text"
      },
      "source": [
        "### Map vs FlatMap"
      ]
    },
    {
      "cell_type": "code",
      "metadata": {
        "id": "SBk0STSBwJCS",
        "colab_type": "code",
        "outputId": "abeb5798-ec5a-4491-c15f-27341550d90e",
        "colab": {
          "base_uri": "https://localhost:8080/",
          "height": 102
        }
      },
      "source": [
        "# Map a function (or lambda expression) to each line\n",
        "# Then collect the results.\n",
        "text_rdd.map(lambda line: line.split()).collect()"
      ],
      "execution_count": 0,
      "outputs": [
        {
          "output_type": "execute_result",
          "data": {
            "text/plain": [
              "[['first', 'line'],\n",
              " ['second', 'line'],\n",
              " ['second', 'second', 'line'],\n",
              " ['third', 'line'],\n",
              " ['fourth', 'line']]"
            ]
          },
          "metadata": {
            "tags": []
          },
          "execution_count": 15
        }
      ]
    },
    {
      "cell_type": "code",
      "metadata": {
        "id": "GlIxuvUlwWQp",
        "colab_type": "code",
        "outputId": "4491b910-1049-43d8-ee18-d82a5c069ace",
        "colab": {
          "base_uri": "https://localhost:8080/",
          "height": 204
        }
      },
      "source": [
        "# Collect everything as a single flat map\n",
        "text_rdd.flatMap(lambda line: line.split()).collect()"
      ],
      "execution_count": 0,
      "outputs": [
        {
          "output_type": "execute_result",
          "data": {
            "text/plain": [
              "['first',\n",
              " 'line',\n",
              " 'second',\n",
              " 'line',\n",
              " 'second',\n",
              " 'second',\n",
              " 'line',\n",
              " 'third',\n",
              " 'line',\n",
              " 'fourth',\n",
              " 'line']"
            ]
          },
          "metadata": {
            "tags": []
          },
          "execution_count": 16
        }
      ]
    },
    {
      "cell_type": "markdown",
      "metadata": {
        "id": "5CWnnKutx4ZK",
        "colab_type": "text"
      },
      "source": [
        "# RDDs and Key Value Pairs\n",
        "\n",
        "Let's create some fake data as a new text file representing some services sold to customers for some SAAS business."
      ]
    },
    {
      "cell_type": "code",
      "metadata": {
        "id": "X3fFphiqwUq7",
        "colab_type": "code",
        "outputId": "1834b589-ddf5-4539-e2d9-4e782c06346b",
        "colab": {
          "base_uri": "https://localhost:8080/",
          "height": 34
        }
      },
      "source": [
        "%%writefile services.txt\n",
        "#EventId    Timestamp    Customer   State    ServiceID    Amount\n",
        "201       10/13/2017      100       NY       131          100.00\n",
        "204       10/18/2017      700       TX       129          450.00\n",
        "202       10/15/2017      203       CA       121          200.00\n",
        "206       10/19/2017      202       CA       131          500.00\n",
        "203       10/17/2017      101       NY       173          750.00\n",
        "205       10/19/2017      202       TX       121          200.00"
      ],
      "execution_count": 0,
      "outputs": [
        {
          "output_type": "stream",
          "text": [
            "Writing services.txt\n"
          ],
          "name": "stdout"
        }
      ]
    },
    {
      "cell_type": "code",
      "metadata": {
        "id": "Twj-pSOJwUgm",
        "colab_type": "code",
        "colab": {}
      },
      "source": [
        "# Creating the RDD \n",
        "services = sc.textFile('services.txt')"
      ],
      "execution_count": 0,
      "outputs": []
    },
    {
      "cell_type": "code",
      "metadata": {
        "id": "y9dJoZqCwUWu",
        "colab_type": "code",
        "outputId": "4640a647-81e4-4a13-cfc0-baa6b2aea2fd",
        "colab": {
          "base_uri": "https://localhost:8080/",
          "height": 68
        }
      },
      "source": [
        "services.take(3)"
      ],
      "execution_count": 0,
      "outputs": [
        {
          "output_type": "execute_result",
          "data": {
            "text/plain": [
              "['#EventId    Timestamp    Customer   State    ServiceID    Amount',\n",
              " '201       10/13/2017      100       NY       131          100.00',\n",
              " '204       10/18/2017      700       TX       129          450.00']"
            ]
          },
          "metadata": {
            "tags": []
          },
          "execution_count": 19
        }
      ]
    },
    {
      "cell_type": "code",
      "metadata": {
        "id": "XCXDkAzdyoVm",
        "colab_type": "code",
        "outputId": "307ba1ac-ebbe-4176-f683-2b71ba23816e",
        "colab": {
          "base_uri": "https://localhost:8080/",
          "height": 68
        }
      },
      "source": [
        "# Apply Split on every line, then show the result on first 3 line\n",
        "services.map(lambda x: x.split()).take(3)"
      ],
      "execution_count": 0,
      "outputs": [
        {
          "output_type": "execute_result",
          "data": {
            "text/plain": [
              "[['#EventId', 'Timestamp', 'Customer', 'State', 'ServiceID', 'Amount'],\n",
              " ['201', '10/13/2017', '100', 'NY', '131', '100.00'],\n",
              " ['204', '10/18/2017', '700', 'TX', '129', '450.00']]"
            ]
          },
          "metadata": {
            "tags": []
          },
          "execution_count": 20
        }
      ]
    },
    {
      "cell_type": "code",
      "metadata": {
        "id": "gayeDb6ayoMV",
        "colab_type": "code",
        "outputId": "fff5405e-3413-484b-bd11-40fbbcb5b9b7",
        "colab": {
          "base_uri": "https://localhost:8080/",
          "height": 136
        }
      },
      "source": [
        "# Remove # on #EventId\n",
        "services.map(lambda x: x[1:] if x[0]=='#' else x).collect()"
      ],
      "execution_count": 0,
      "outputs": [
        {
          "output_type": "execute_result",
          "data": {
            "text/plain": [
              "['EventId    Timestamp    Customer   State    ServiceID    Amount',\n",
              " '201       10/13/2017      100       NY       131          100.00',\n",
              " '204       10/18/2017      700       TX       129          450.00',\n",
              " '202       10/15/2017      203       CA       121          200.00',\n",
              " '206       10/19/2017      202       CA       131          500.00',\n",
              " '203       10/17/2017      101       NY       173          750.00',\n",
              " '205       10/19/2017      202       TX       121          200.00']"
            ]
          },
          "metadata": {
            "tags": []
          },
          "execution_count": 21
        }
      ]
    },
    {
      "cell_type": "code",
      "metadata": {
        "id": "7VM4Pa6FyoC4",
        "colab_type": "code",
        "outputId": "3058a818-72f5-4116-ddb0-3e77b9be3230",
        "colab": {
          "base_uri": "https://localhost:8080/",
          "height": 136
        }
      },
      "source": [
        "services.map(lambda x: x[1:] if x[0]=='#' else x).map(lambda x: x.split()).collect()"
      ],
      "execution_count": 0,
      "outputs": [
        {
          "output_type": "execute_result",
          "data": {
            "text/plain": [
              "[['EventId', 'Timestamp', 'Customer', 'State', 'ServiceID', 'Amount'],\n",
              " ['201', '10/13/2017', '100', 'NY', '131', '100.00'],\n",
              " ['204', '10/18/2017', '700', 'TX', '129', '450.00'],\n",
              " ['202', '10/15/2017', '203', 'CA', '121', '200.00'],\n",
              " ['206', '10/19/2017', '202', 'CA', '131', '500.00'],\n",
              " ['203', '10/17/2017', '101', 'NY', '173', '750.00'],\n",
              " ['205', '10/19/2017', '202', 'TX', '121', '200.00']]"
            ]
          },
          "metadata": {
            "tags": []
          },
          "execution_count": 22
        }
      ]
    },
    {
      "cell_type": "markdown",
      "metadata": {
        "id": "o9925fozS82J",
        "colab_type": "text"
      },
      "source": [
        "## Using Key Value Pairs for Operations\n",
        "\n",
        "Let us now use methods that combine lambda expressions with a ByKey argument. These ByKey methods will assume that our dataset is in a Key,Value form. \n",
        "\n",
        "\n",
        "For example let's find out the total sales per state:"
      ]
    },
    {
      "cell_type": "code",
      "metadata": {
        "id": "zO-yEw1qyn5m",
        "colab_type": "code",
        "colab": {}
      },
      "source": [
        "# From Previous\n",
        "cleanServ = services.map(lambda x: x[1:] if x[0]=='#' else x).map(lambda x: x.split())"
      ],
      "execution_count": 0,
      "outputs": []
    },
    {
      "cell_type": "code",
      "metadata": {
        "id": "ZzTZsoeo5DYV",
        "colab_type": "code",
        "outputId": "6e7dad87-3d2a-4799-a525-c194c9b8414b",
        "colab": {
          "base_uri": "https://localhost:8080/",
          "height": 136
        }
      },
      "source": [
        "cleanServ.collect()"
      ],
      "execution_count": 0,
      "outputs": [
        {
          "output_type": "execute_result",
          "data": {
            "text/plain": [
              "[['EventId', 'Timestamp', 'Customer', 'State', 'ServiceID', 'Amount'],\n",
              " ['201', '10/13/2017', '100', 'NY', '131', '100.00'],\n",
              " ['204', '10/18/2017', '700', 'TX', '129', '450.00'],\n",
              " ['202', '10/15/2017', '203', 'CA', '121', '200.00'],\n",
              " ['206', '10/19/2017', '202', 'CA', '131', '500.00'],\n",
              " ['203', '10/17/2017', '101', 'NY', '173', '750.00'],\n",
              " ['205', '10/19/2017', '202', 'TX', '121', '200.00']]"
            ]
          },
          "metadata": {
            "tags": []
          },
          "execution_count": 39
        }
      ]
    },
    {
      "cell_type": "code",
      "metadata": {
        "id": "YJ5VfQbn5DMN",
        "colab_type": "code",
        "outputId": "accb43d7-b7f4-468f-ecc4-d1b63ceb3185",
        "colab": {
          "base_uri": "https://localhost:8080/",
          "height": 136
        }
      },
      "source": [
        "# Let's start by practicing grabbing fields\n",
        "cleanServ.map(lambda lst: (lst[3],lst[-1])).collect()"
      ],
      "execution_count": 0,
      "outputs": [
        {
          "output_type": "execute_result",
          "data": {
            "text/plain": [
              "[('State', 'Amount'),\n",
              " ('NY', '100.00'),\n",
              " ('TX', '450.00'),\n",
              " ('CA', '200.00'),\n",
              " ('CA', '500.00'),\n",
              " ('NY', '750.00'),\n",
              " ('TX', '200.00')]"
            ]
          },
          "metadata": {
            "tags": []
          },
          "execution_count": 40
        }
      ]
    },
    {
      "cell_type": "code",
      "metadata": {
        "id": "O8aDmHH05C_I",
        "colab_type": "code",
        "outputId": "7ba3da9c-4928-4d80-e5b4-87dadc80306c",
        "colab": {
          "base_uri": "https://localhost:8080/",
          "height": 85
        }
      },
      "source": [
        "# Continue with reduceByKey\n",
        "# Notice how it assumes that the first item is the key!\n",
        "cleanServ.map(lambda lst: (lst[3],lst[-1]))\\\n",
        "         .reduceByKey(lambda amt1,amt2 : amt1+amt2)\\\n",
        "         .collect()"
      ],
      "execution_count": 0,
      "outputs": [
        {
          "output_type": "execute_result",
          "data": {
            "text/plain": [
              "[('State', 'Amount'),\n",
              " ('NY', '100.00750.00'),\n",
              " ('TX', '450.00200.00'),\n",
              " ('CA', '200.00500.00')]"
            ]
          },
          "metadata": {
            "tags": []
          },
          "execution_count": 26
        }
      ]
    },
    {
      "cell_type": "markdown",
      "metadata": {
        "id": "w6_6Cp6WWZ7L",
        "colab_type": "text"
      },
      "source": [
        "Looks like we forgot that the amounts are still strings! Let's fix that:"
      ]
    },
    {
      "cell_type": "code",
      "metadata": {
        "id": "DSb7WS80O7Y2",
        "colab_type": "code",
        "outputId": "07dfe640-3d0d-493b-e35b-ed800f3d71e4",
        "colab": {
          "base_uri": "https://localhost:8080/",
          "height": 34
        }
      },
      "source": [
        "# Continue with reduceByKey\n",
        "# Notice how it assumes that the first item is the key!\n",
        "cleanServ.map(lambda lst: (lst[3],lst[-1]))\\\n",
        "         .reduceByKey(lambda amt1,amt2 : float(amt1)+float(amt2))\\\n",
        "         .collect()"
      ],
      "execution_count": 0,
      "outputs": [
        {
          "output_type": "execute_result",
          "data": {
            "text/plain": [
              "[('State', 'Amount'), ('NY', 850.0), ('TX', 650.0), ('CA', 700.0)]"
            ]
          },
          "metadata": {
            "tags": []
          },
          "execution_count": 27
        }
      ]
    },
    {
      "cell_type": "markdown",
      "metadata": {
        "id": "vCC3__nAWwab",
        "colab_type": "text"
      },
      "source": [
        "We can continue our analysis by sorting this output:"
      ]
    },
    {
      "cell_type": "code",
      "metadata": {
        "id": "ydmHScrXO7Ng",
        "colab_type": "code",
        "outputId": "f70bbb21-1b9d-464a-87f2-3cf17a91b855",
        "colab": {
          "base_uri": "https://localhost:8080/",
          "height": 34
        }
      },
      "source": [
        "# Grab state and amounts\n",
        "# Add them\n",
        "# Get rid of ('State','Amount')\n",
        "# Sort them by the amount value\n",
        "\n",
        "cleanServ.map(lambda lst: (lst[3],lst[-1]))\\\n",
        ".reduceByKey(lambda amt1,amt2 : float(amt1)+float(amt2))\\\n",
        ".filter(lambda x: not x[0]=='State')\\\n",
        ".sortBy(lambda stateAmount: stateAmount[1], ascending=False)\\\n",
        ".collect()"
      ],
      "execution_count": 0,
      "outputs": [
        {
          "output_type": "execute_result",
          "data": {
            "text/plain": [
              "[('NY', 850.0), ('CA', 700.0), ('TX', 650.0)]"
            ]
          },
          "metadata": {
            "tags": []
          },
          "execution_count": 43
        }
      ]
    }
  ]
}